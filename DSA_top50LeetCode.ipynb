{
  "nbformat": 4,
  "nbformat_minor": 0,
  "metadata": {
    "colab": {
      "name": "DSA_top50LeetCode.ipynb",
      "provenance": [],
      "collapsed_sections": [],
      "authorship_tag": "ABX9TyOxCbgS6frtClC2mkyqwbTV",
      "include_colab_link": true
    },
    "kernelspec": {
      "name": "python3",
      "display_name": "Python 3"
    },
    "language_info": {
      "name": "python"
    }
  },
  "cells": [
    {
      "cell_type": "markdown",
      "metadata": {
        "id": "view-in-github",
        "colab_type": "text"
      },
      "source": [
        "<a href=\"https://colab.research.google.com/github/balawillgetyou/2021/blob/main/DSA_top50LeetCode.ipynb\" target=\"_parent\"><img src=\"https://colab.research.google.com/assets/colab-badge.svg\" alt=\"Open In Colab\"/></a>"
      ]
    },
    {
      "cell_type": "markdown",
      "source": [
        "# Python solutions for the top 50 questions on LeetCode\n",
        "Beginning with solutions for 40 out of top 50 questions. Gaps will be filled ASAP.  All solutions validated on LeetCode."
      ],
      "metadata": {
        "id": "DdJjCg2QpZXV"
      }
    },
    {
      "cell_type": "code",
      "source": [
        "#1. Two sum - Given an array of integers, find two numbers such that they add up to a specific target number. Returning element indices base 1.\n",
        "#1. Two Sum - the second line refers to the serial number on LeetCode\n",
        "#This solution time complexity O(n) and space complexity O(n). Note that set creation & lookup is O(1).\n",
        "\n",
        "class Solution:\n",
        "    def twoSum(self, nums, target):\n",
        "      nums_dict = {}\n",
        "      for i in range(len(nums)):\n",
        "        nums_dict[nums[i]] = nums_dict.get(nums[i],0)+1\n",
        "      for i in range(len(nums)):\n",
        "        comp = target - nums[i]\n",
        "        if (comp in nums_dict) and (comp != nums[i]):\n",
        "          return [i, nums.index(comp)]\n",
        "        if comp == nums[i] and nums_dict[comp] > 1:#to handle duplicates\n",
        "          nums.pop(i) #removes first ocurrence\n",
        "          return [i, nums.index(comp)+1]\n",
        "\n",
        "\n",
        "#nums = [1,2,3,4,5,6,22]\n",
        "# nums = [22,2,1,4,5,6,3]\n",
        "# target = 25\n",
        "\n",
        "# nums = [3,2,4]\n",
        "# target = 6\n",
        "\n",
        "nums = [2,5,5,11]\n",
        "target = 10\n",
        "\n",
        "mySolution = Solution()\n",
        "mySolution.twoSum(nums, target)"
      ],
      "metadata": {
        "colab": {
          "base_uri": "https://localhost:8080/"
        },
        "id": "5PlOc1Rlz7yM",
        "outputId": "36eda7a0-f976-40b6-99e1-b9f2c6a27564"
      },
      "execution_count": null,
      "outputs": [
        {
          "output_type": "execute_result",
          "data": {
            "text/plain": [
              "[1, 2]"
            ]
          },
          "metadata": {},
          "execution_count": 61
        }
      ]
    },
    {
      "cell_type": "code",
      "source": [
        "#2. Two sum II - Given an array of integers, find two numbers such that they add up to a specific target number. Given array is already sorted\n",
        "#167. Two Sum II - Input Array Is Sorted\n",
        "#Two pointers time complexity O(n) and space complexity O(1) - this solution is better than binary search shown next\n",
        "\n",
        "class Solution:\n",
        "    def twoSum(self, nums, target):\n",
        "      l,r = 0, len(nums)-1\n",
        "      while l<r:\n",
        "        if nums[l] + nums[r] == target:\n",
        "          return [l+1,r+1]\n",
        "        elif nums[l] + nums[r] < target:\n",
        "          l += 1\n",
        "        else:\n",
        "          r -= 1\n",
        "      return 'not found'\n",
        "\n",
        "#nums = [1,2,3,4,5,6,22] #sorted array\n",
        "nums = [22,2,1,4,5,6,3] #unsorted array\n",
        "target = 25\n",
        "\n",
        "mySolution = Solution()\n",
        "mySolution.twoSum(nums, target)"
      ],
      "metadata": {
        "colab": {
          "base_uri": "https://localhost:8080/"
        },
        "id": "7lMZ2jiU2vDh",
        "outputId": "23b43cdd-3ea4-4073-f1f4-6fbd1343a822"
      },
      "execution_count": null,
      "outputs": [
        {
          "output_type": "execute_result",
          "data": {
            "text/plain": [
              "[1, 7]"
            ]
          },
          "metadata": {},
          "execution_count": 22
        }
      ]
    },
    {
      "cell_type": "code",
      "source": [
        "#2. Two sum II - Given an array of integers, find two numbers such that they add up to a specific target number. Given array is already sorted\n",
        "#167. Two Sum II - Input Array Is Sorted\n",
        "#Binary solution time complexity O(n logn) and space complexity O(1)\n",
        "\n",
        "class Solution:\n",
        "    def twoSum(self, nums, target):\n",
        "\n",
        "      def bsearch(comp):\n",
        "        l = 0\n",
        "        r = len(nums)-1\n",
        "        while l<r:\n",
        "          m = (l+r)//2\n",
        "          print(nums[m], nums[i], comp)\n",
        "          if nums[m] > comp:\n",
        "            r = m\n",
        "          else:\n",
        "            l = m+1\n",
        "        return l if (l == r and nums[l] == comp) else -1\n",
        "\n",
        "      for i in range(len(nums)):\n",
        "        comp = target - nums[i]\n",
        "        ans = bsearch(comp)\n",
        "        print(ans)\n",
        "        if ans != -1:\n",
        "          return [nums[i], nums[ans]]\n",
        "        \n",
        "      return 'not found'\n",
        "\n",
        "\n",
        "nums = [1,2,3,4,5,6,22] #sorted array\n",
        "#nums = [22,2,1,4,5,6,3] #unsorted array\n",
        "target = 20\n",
        "\n",
        "mySolution = Solution()\n",
        "mySolution.twoSum(nums, target)"
      ],
      "metadata": {
        "colab": {
          "base_uri": "https://localhost:8080/",
          "height": 417
        },
        "id": "Zf8BDrAgHL9w",
        "outputId": "24607323-c3dc-4720-c6d0-b638a6cafc62"
      },
      "execution_count": null,
      "outputs": [
        {
          "output_type": "stream",
          "name": "stdout",
          "text": [
            "4 1 19\n",
            "6 1 19\n",
            "-1\n",
            "4 2 18\n",
            "6 2 18\n",
            "-1\n",
            "4 3 17\n",
            "6 3 17\n",
            "-1\n",
            "4 4 16\n",
            "6 4 16\n",
            "-1\n",
            "4 5 15\n",
            "6 5 15\n",
            "-1\n",
            "4 6 14\n",
            "6 6 14\n",
            "-1\n",
            "4 22 -2\n",
            "2 22 -2\n",
            "1 22 -2\n",
            "-1\n"
          ]
        },
        {
          "output_type": "execute_result",
          "data": {
            "text/plain": [
              "'not found'"
            ],
            "application/vnd.google.colaboratory.intrinsic+json": {
              "type": "string"
            }
          },
          "metadata": {},
          "execution_count": 15
        }
      ]
    },
    {
      "cell_type": "code",
      "source": [
        "#3 Two Sum III – Data structure design - no duplicates\n",
        "#Leetcode question locked\n",
        "class twoSum:\n",
        "  def __init__(self, nums):\n",
        "      self.nums = nums\n",
        "\n",
        "  def add_one(self, n):\n",
        "    nums.append(n)\n",
        "    return nums\n",
        "\n",
        "  def find_compliment(self,target):\n",
        "    nums_set = set(nums)\n",
        "    for i in range(len(nums)):\n",
        "      if (target - nums[i]) in nums_set:\n",
        "        return [nums.index(nums[i]), nums.index(target-nums[i])], [nums[i], nums[nums.index(target-nums[i])]]\n",
        "\n",
        "nums = [1,2,3,4,5,6,22] #sorted array\n",
        "target = 25\n",
        "\n",
        "mySolution = twoSum(nums)\n",
        "mySolution.add_one(2)\n",
        "mySolution.find_compliment(target)"
      ],
      "metadata": {
        "colab": {
          "base_uri": "https://localhost:8080/"
        },
        "id": "UTpPO1UVwkQd",
        "outputId": "ac49869a-0da2-4e60-a88a-ceb3c6320c88"
      },
      "execution_count": null,
      "outputs": [
        {
          "output_type": "execute_result",
          "data": {
            "text/plain": [
              "([2, 6], [3, 22])"
            ]
          },
          "metadata": {},
          "execution_count": 131
        }
      ]
    },
    {
      "cell_type": "code",
      "source": [
        "#Two Sum III – Data structure design - allows duplicates - see one more approach below\n",
        "#Leetcode question locked\n",
        "\n",
        "class twoSum:\n",
        "  def __init__(self, nums):\n",
        "      self.nums = nums\n",
        "\n",
        "  def add_one(self, n):\n",
        "    nums.append(n)\n",
        "    return nums\n",
        "\n",
        "  def find_compliment(self,target):\n",
        "    nums_dict = {}\n",
        "    for i in range(len(nums)):\n",
        "      nums_dict[nums[i]] = nums_dict.get(nums[i], 0)+1\n",
        "    for i in range(len(nums)):\n",
        "      comp = target - nums[i]\n",
        "      if (comp in nums_dict) and (comp != nums[i]):#preventing selecting self as compliment\n",
        "        return [i, nums.index(comp)]\n",
        "      elif (comp == nums[i]) and (nums_dict[comp] > 1):#for when duplicates add up to target\n",
        "        nums.pop(i)\n",
        "        return [i, nums.index(comp)+1]#to account for the pop\n",
        "    return nums_dict\n",
        "\n",
        "\n",
        "nums = [1,2,3,4,5,6,7,13,13] #sorted array\n",
        "target = 26\n",
        "\n",
        "# nums = [1,2,3,4,5,6,7,13,13,22] #sorted array\n",
        "# target = 25\n",
        "\n",
        "\n",
        "mySolution = twoSum(nums)\n",
        "#mySolution.add_one(2)\n",
        "mySolution.find_compliment(target)"
      ],
      "metadata": {
        "id": "iOFuwW9OxUi_"
      },
      "execution_count": null,
      "outputs": []
    },
    {
      "cell_type": "code",
      "source": [
        "#Two Sum III – Data structure design - allows duplicates - interesting use of cutpoints\n",
        "#Leetcode question locked\n",
        "\n",
        "class twoSum:\n",
        "  def __init__(self, nums):\n",
        "      self.nums = nums\n",
        "\n",
        "  def add_one(self, n):\n",
        "    self.nums = self.nums.append(n)\n",
        "    return nums\n",
        "\n",
        "  def find_compliment(self,target):\n",
        "    nums_dict = {}\n",
        "    for i in range(len(nums)):\n",
        "      nums_dict[(target - nums[i])] = nums_dict.get(target - nums[i], 0) + 1\n",
        "    for i in range(len(nums)):\n",
        "      if nums[i] in nums_dict:\n",
        "        if nums.index(nums[i]) != nums.index(target-nums[i]):\n",
        "          return [nums.index(nums[i]), nums.index(target-nums[i])]\n",
        "        else:\n",
        "          if nums_dict[nums[i]] > 1:\n",
        "            cut_point = nums.index(target-nums[i])\n",
        "            print(cut_point)\n",
        "            return [nums[:cut_point+1].index(target-nums[i]), cut_point+1+(nums[cut_point+1:].index(target-nums[i]))]\n",
        "\n",
        "nums = [1,2,3,4,5,6,7,13,13] #sorted array\n",
        "target = 26\n",
        "\n",
        "# nums = [1,2,3,4,5,6,7,13,13,22] #sorted array\n",
        "# target = 25\n",
        "\n",
        "\n",
        "mySolution = twoSum(nums)\n",
        "#mySolution.add_one(2)\n",
        "mySolution.find_compliment(target)"
      ],
      "metadata": {
        "colab": {
          "base_uri": "https://localhost:8080/"
        },
        "id": "Ryg36qFKVlWy",
        "outputId": "90de7ab7-126a-42aa-8cf0-14fb7bd5248e"
      },
      "execution_count": null,
      "outputs": [
        {
          "output_type": "stream",
          "name": "stdout",
          "text": [
            "7\n"
          ]
        },
        {
          "output_type": "execute_result",
          "data": {
            "text/plain": [
              "[7, 8]"
            ]
          },
          "metadata": {},
          "execution_count": 57
        }
      ]
    },
    {
      "cell_type": "code",
      "source": [
        "#4. Valid Palindrome - 2 steps. Char of string need to be validated as alphanumeric. Then, checked if they are palindrome. \n",
        "# See two different methods for the 2 steps below. Plus bonus longest palindrome substring\n",
        "#125. Valid Palindrome\n",
        "\n",
        "class Solution:\n",
        "    def extractChar1(self,s):#check for valid characters using conversion to Unicode, ord(), which is the opposite of chr()\n",
        "      valid_s = ''\n",
        "      for i in s:\n",
        "        if (ord('a') <= ord(i) <= ord('z') or\n",
        "            ord('A') <= ord(i) <= ord('Z') or\n",
        "            ord('0') <= ord(i) <= ord('9')\n",
        "        ):\n",
        "          valid_s += i.lower()\n",
        "      return valid_s\n",
        "\n",
        "    def extractChar2(self,s):#check for valid characters using the built in .isalnum()\n",
        "      valid_s = ''\n",
        "      for i in s:\n",
        "        if i.isalnum():\n",
        "          valid_s += i.lower()\n",
        "      return valid_s\n",
        "\n",
        "    def isPalindrome1(self,s):#simple string reversal\n",
        "      valid_s = self.extractChar1(s)\n",
        "      return True if valid_s == valid_s[::-1] else False\n",
        "\n",
        "    def isPalindrome2(self,s):#useful concept of sliding windows/ outermost char in window\n",
        "      valid_s = self.extractChar2(s)\n",
        "      l,r = 0, len(valid_s)-1\n",
        "      while l < r:\n",
        "        if valid_s[l] != valid_s[r]:\n",
        "          return False\n",
        "        l += 1\n",
        "        r -= 1\n",
        "      return True\n",
        "\n",
        "    def longestPalindrome(self,s):\n",
        "      valid_s = self.extractChar2(s)\n",
        "      print(valid_s)\n",
        "      res = ''\n",
        "      resLen = 0\n",
        "      for i in range(len(valid_s)):\n",
        "        l = r = i\n",
        "        while l >= 0 and r < len(valid_s) and valid_s[l] == valid_s[r]:#expanding window useful here\n",
        "          if len(valid_s[l:r+1]) > resLen:\n",
        "            res = valid_s[l:r+1] \n",
        "            resLen = len(res)\n",
        "            print(s[i], ' : ', res)\n",
        "          l -= 1\n",
        "          r += 1\n",
        "      return res, resLen\n",
        "            \n",
        "\n",
        "\n",
        "#s = \"$xzybabbabbabbaabaBJNSHYDUTIUYDJMN\"\n",
        "#s = \"(*&^%$babbabbAB\"\n",
        "#s = \"A man, a plan, a canal: Panama\"\n",
        "#s= \"race a car\"\n",
        "#s = '0P'\n",
        "s = \"Malayalam\"\n",
        "#s = \"\"\n",
        "\n",
        "mySolution = Solution()\n",
        "#mySolution.isPalindrome1(s)\n",
        "#mySolution.isPalindrome2(s)\n",
        "mySolution.longestPalindrome(s)"
      ],
      "metadata": {
        "colab": {
          "base_uri": "https://localhost:8080/"
        },
        "id": "aCsGY9bKreQK",
        "outputId": "408f8ade-4f8e-4ce2-8437-6c3cd79dee94"
      },
      "execution_count": null,
      "outputs": [
        {
          "output_type": "stream",
          "name": "stdout",
          "text": [
            "malayalam\n",
            "M  :  m\n",
            "l  :  ala\n",
            "y  :  layal\n",
            "y  :  alayala\n",
            "y  :  malayalam\n"
          ]
        },
        {
          "output_type": "execute_result",
          "data": {
            "text/plain": [
              "('malayalam', 9)"
            ]
          },
          "metadata": {},
          "execution_count": 128
        }
      ]
    },
    {
      "cell_type": "code",
      "source": [
        "#5. Implement strstr() - sliding window\n",
        "#28. Implement strStr()\n",
        "class Solution:\n",
        "  def __init__(self, needle, haystack):\n",
        "    self.needle = needle\n",
        "    self.haystack = haystack\n",
        "\n",
        "\n",
        "  def nINh(self, needle, haystack):\n",
        "    if not needle or not haystack:\n",
        "      return 0\n",
        "    l = 0\n",
        "    r = l+len(needle)\n",
        "    while r <= len(haystack):\n",
        "      print(haystack[l:r], needle)\n",
        "      if haystack[l:r] == needle:\n",
        "        return l\n",
        "      l += 1\n",
        "      r += 1\n",
        "    return -1\n",
        "\n",
        "\n",
        "#haystack = \"\"\n",
        "# haystack = \"heello\"\n",
        "# needle = \"el\"\n",
        "#needle = \"llm\"\n",
        "\n",
        "haystack = \"aaba\"\n",
        "needle = \"ba\"\n",
        "\n",
        "mySolution = Solution(needle, haystack)\n",
        "mySolution.nINh(needle, haystack)"
      ],
      "metadata": {
        "colab": {
          "base_uri": "https://localhost:8080/"
        },
        "id": "3VuDErOSiJY9",
        "outputId": "6e30f842-9845-46c4-80cd-0e8ee7666e08"
      },
      "execution_count": null,
      "outputs": [
        {
          "output_type": "stream",
          "name": "stdout",
          "text": [
            "aa ba\n",
            "ab ba\n",
            "ba ba\n"
          ]
        },
        {
          "output_type": "execute_result",
          "data": {
            "text/plain": [
              "2"
            ]
          },
          "metadata": {},
          "execution_count": 133
        }
      ]
    },
    {
      "cell_type": "code",
      "source": [
        "#6. Reverse Words in a String\n",
        "#151. Reverse Words in a String\n",
        "\n",
        "#time O(n), space O(1) - no additional objects created\n",
        "class Solution:\n",
        "  def reverseWords(self,s):\n",
        "    s = s.split()\n",
        "    l,r = 0, len(s)-1\n",
        "    while l<r:\n",
        "      s[l],s[r]=s[r],s[l]\n",
        "      l += 1\n",
        "      r -= 1\n",
        "    return s\n",
        "\n",
        "s = '  the sky              is blue'\n",
        "\n",
        "mySolution = Solution()\n",
        "mySolution.reverseWords(s)"
      ],
      "metadata": {
        "colab": {
          "base_uri": "https://localhost:8080/"
        },
        "id": "kaTeIOoKjogX",
        "outputId": "3acabc76-d57a-41d7-d34b-866cff0555d2"
      },
      "execution_count": null,
      "outputs": [
        {
          "output_type": "execute_result",
          "data": {
            "text/plain": [
              "['blue', 'is', 'sky', 'the']"
            ]
          },
          "metadata": {},
          "execution_count": 32
        }
      ]
    },
    {
      "cell_type": "code",
      "source": [
        "import re\n",
        "def reverseString(s):\n",
        "  l,r = 0,len(s)-1\n",
        "  while l < r:\n",
        "    s[l],s[r] = s[r],s[l]\n",
        "    l += 1\n",
        "    r -= 1\n",
        "  return s\n",
        "\n",
        "s = 'the sky              is so blue'\n",
        "s = s.split()\n",
        "print(reverseString(s))\n",
        "s='string'\n",
        "s = re.findall('[a-zA-Z]',s)\n",
        "print(reverseString(s))"
      ],
      "metadata": {
        "colab": {
          "base_uri": "https://localhost:8080/"
        },
        "id": "OqBV_XW0Rns7",
        "outputId": "44f5bbd9-412b-494d-d0c1-9aed8fc033b8"
      },
      "execution_count": null,
      "outputs": [
        {
          "output_type": "stream",
          "name": "stdout",
          "text": [
            "['blue', 'so', 'is', 'sky', 'the']\n",
            "['g', 'n', 'i', 'r', 't', 's']\n"
          ]
        }
      ]
    },
    {
      "cell_type": "code",
      "source": [
        "#7. Reverse Words in a String II - this is locked on LeetCode and in its place, III is attempted\n",
        "#557. Reverse Words in a String III - this suffices for the description on LeetCode\n",
        "class Solution:\n",
        "    def reverseWords(self, s):\n",
        "      ans = s.split()\n",
        "      for i in range(len(ans)):\n",
        "        ans[i] = ans[i][::-1]\n",
        "      return \" \".join(ans)\n",
        "\n",
        "s = '  the sky              is blue'\n",
        "\n",
        "mySolution = Solution()\n",
        "mySolution.reverseWords(s)"
      ],
      "metadata": {
        "id": "9crhaHHxna-w"
      },
      "execution_count": null,
      "outputs": []
    },
    {
      "cell_type": "code",
      "source": [
        "#7. Reverse Words in a String II\n",
        "#557. Reverse Words in a String III - see some additional ideas - like in place swap of list values and using regex to split a single word and then reversing it\n",
        "import re\n",
        "class Solution:\n",
        "    def reverseWords(self, s):\n",
        "      def reverseString(s):\n",
        "        l,r = 0,len(s)-1\n",
        "        while l<r:        \n",
        "          s[l],s[r]=s[r],s[l]\n",
        "          l += 1\n",
        "          r -= 1\n",
        "        return s\n",
        "      #return reverseString(s.split())\n",
        "\n",
        "      res = []\n",
        "      for i in reverseString(s.split()):\n",
        "        print(re.findall('[a-zA-Z]',i))\n",
        "        print(reverseString(re.findall('[a-zA-Z]',i)))\n",
        "        print(\"\".join(reverseString(re.findall('[a-zA-Z]',i))))\n",
        "        res.append(\"\".join(reverseString(re.findall('[a-zA-Z]',i))))\n",
        "\n",
        "      return res\n",
        "\n",
        "s = '  the sky              is blue'\n",
        "\n",
        "mySolution = Solution()\n",
        "mySolution.reverseWords(s)"
      ],
      "metadata": {
        "colab": {
          "base_uri": "https://localhost:8080/"
        },
        "id": "mdzsbdQSkiHZ",
        "outputId": "e6528332-5310-4a11-f303-2c764eb2a440"
      },
      "execution_count": null,
      "outputs": [
        {
          "output_type": "stream",
          "name": "stdout",
          "text": [
            "['b', 'l', 'u', 'e']\n",
            "['e', 'u', 'l', 'b']\n",
            "eulb\n",
            "['i', 's']\n",
            "['s', 'i']\n",
            "si\n",
            "['s', 'k', 'y']\n",
            "['y', 'k', 's']\n",
            "yks\n",
            "['t', 'h', 'e']\n",
            "['e', 'h', 't']\n",
            "eht\n"
          ]
        },
        {
          "output_type": "execute_result",
          "data": {
            "text/plain": [
              "['eulb', 'si', 'yks', 'eht']"
            ]
          },
          "metadata": {},
          "execution_count": 46
        }
      ]
    },
    {
      "cell_type": "code",
      "source": [
        "#8. String to Integer (atoi)\n",
        "#8. String to Integer (atoi) (yes, same serial # on Leetcode too)\n",
        "\n",
        "class Solution:\n",
        "    def myAtoi(self, s):\n",
        "      res = 0\n",
        "      i = 0\n",
        "      negative = 1\n",
        "      max_int = 2**31-1\n",
        "      min_int = -2**31\n",
        "      #whitespace\n",
        "      while i < len(s) and s[i] == ' ':\n",
        "        i += 1\n",
        "      #symbol\n",
        "      if i < len(s) and s[i] == '-':\n",
        "        negative = -1\n",
        "        i += 1\n",
        "      elif i < len(s) and s[i] == '+':\n",
        "        i += 1\n",
        "      #numeric\n",
        "      checker = set('0123456789')\n",
        "      while i < len(s) and s[i] in checker:\n",
        "        #check size, ignore symbol for now\n",
        "        print(s[i])\n",
        "        if (res > max_int//10) or (res == max_int//10 and int(s[i]) > 7):\n",
        "          return max_int if negative == 1 else min_int\n",
        "        res = res*10 + int(s[i])\n",
        "        i += 1\n",
        "      return res*negative\n",
        "\n",
        "\n",
        "#s = ' -42xmhsu '\n",
        "#s = 'words -4193'\n",
        "s = '-91283472332'\n",
        "\n",
        "mySolution = Solution()\n",
        "mySolution.myAtoi(s)"
      ],
      "metadata": {
        "colab": {
          "base_uri": "https://localhost:8080/"
        },
        "id": "J3Aq7ckkjOQs",
        "outputId": "4010b13f-49ba-4724-e28b-e8f978c740ae"
      },
      "execution_count": null,
      "outputs": [
        {
          "output_type": "stream",
          "name": "stdout",
          "text": [
            "9\n",
            "1\n",
            "2\n",
            "8\n",
            "3\n",
            "4\n",
            "7\n",
            "2\n",
            "3\n",
            "3\n"
          ]
        },
        {
          "output_type": "execute_result",
          "data": {
            "text/plain": [
              "-2147483648"
            ]
          },
          "metadata": {},
          "execution_count": 45
        }
      ]
    },
    {
      "cell_type": "code",
      "source": [
        "#9. Valid Number\n",
        "#65. Valid Number\n",
        "\n",
        "class Solution:\n",
        "  def isNumber(self, s):\n",
        "    digit, dec, e, sign = False, False, False, False\n",
        "    for i in s:\n",
        "      #digits\n",
        "      if i in '0123456789':\n",
        "        digit = True\n",
        "      #sign\n",
        "      elif i in '+-':\n",
        "        if sign or digit or dec:\n",
        "          print('spot')\n",
        "          return False\n",
        "        else:\n",
        "          sign = True\n",
        "      #decimal\n",
        "      elif i == '.':\n",
        "        print('.')\n",
        "        if dec or e:\n",
        "          return False\n",
        "        else:\n",
        "          dec = True\n",
        "      elif i in 'Ee':\n",
        "        print('e')\n",
        "        if not digit or e:\n",
        "          return False\n",
        "        else:\n",
        "          e = True\n",
        "          digit = False\n",
        "          sign = False\n",
        "          dec = False\n",
        "      else:\n",
        "        return False\n",
        "    return digit\n",
        "      \n",
        "\n",
        "s_list = [\"2\", \"0089\", \"-0.1\", \"+3.14\", \"4.\", \"-.9\", \"2e10\", \"-90E3\", \"3e+7\", \"+6e-1\", \"53.5e93\", \"-123.456e789\"]\n",
        "s_list2 = [\"abc\", \"1a\", \"1e\", \"e3\", \"99e2.5\", \"--6\", \"-+3\", \"95a54e53\"]\n",
        "#s = s_list[0]\n",
        "#s = 'e9'\n",
        "#s= '10e'\n",
        "#s = \"2\"\n",
        "s= \"32.e-80123\"\n",
        "mySolution = Solution()\n",
        "mySolution.isNumber(s)"
      ],
      "metadata": {
        "colab": {
          "base_uri": "https://localhost:8080/"
        },
        "id": "gQDUw1AGTxMa",
        "outputId": "09ba0f7c-77e9-42f6-923f-6a6bbe061720"
      },
      "execution_count": null,
      "outputs": [
        {
          "output_type": "stream",
          "name": "stdout",
          "text": [
            ".\n",
            "e\n"
          ]
        },
        {
          "output_type": "execute_result",
          "data": {
            "text/plain": [
              "True"
            ]
          },
          "metadata": {},
          "execution_count": 72
        }
      ]
    },
    {
      "cell_type": "code",
      "source": [
        "#10. Longest Substring Without Repeating Characters\n",
        "#3. Longest Substring Without Repeating Characters\n",
        "class Solution:\n",
        "    def lengthOfLongestSubstring(self, s):\n",
        "      curr = ''\n",
        "      prevLong = ''\n",
        "\n",
        "      for i in s:\n",
        "        if i not in curr:\n",
        "          curr += i\n",
        "        else:\n",
        "          curr = curr.split(i)[1]+i\n",
        "          print(curr)\n",
        "        if len(curr) > len(prevLong):\n",
        "          prevLong = curr\n",
        "      return prevLong\n",
        "\n",
        "#s = \"abcabcbb\"\n",
        "s = \"pwwkew12345K\"\n",
        "mySolution = Solution()\n",
        "mySolution.lengthOfLongestSubstring(s)"
      ],
      "metadata": {
        "colab": {
          "base_uri": "https://localhost:8080/",
          "height": 70
        },
        "id": "AQXvmxod1_iC",
        "outputId": "c887dda5-7912-4bb1-a981-6a35b888b42e"
      },
      "execution_count": null,
      "outputs": [
        {
          "output_type": "stream",
          "name": "stdout",
          "text": [
            "w\n",
            "kew\n"
          ]
        },
        {
          "output_type": "execute_result",
          "data": {
            "text/plain": [
              "'kew12345K'"
            ],
            "application/vnd.google.colaboratory.intrinsic+json": {
              "type": "string"
            }
          },
          "metadata": {},
          "execution_count": 47
        }
      ]
    },
    {
      "cell_type": "code",
      "source": [
        "# 12. Missing Ranges - in the given range 0 to 99\n",
        "# Leetcode question locked\n",
        "class Solution:\n",
        "  def missingRanges(self, s):\n",
        "    s = [-1] + s + [100]#adding elements outside the given range to deal with edge cases involving empty list or elements missing at the ends\n",
        "    l = 0\n",
        "    r = 1\n",
        "    res = []\n",
        "    while r < len(s):\n",
        "      if s[r]-2 == s[l]:\n",
        "        res.append(str(s[l]+1))\n",
        "      elif s[r]-2 > s[l]:\n",
        "        res.append((str(s[l]+1) + \"-\" + str(s[r]-1)))\n",
        "      l += 1\n",
        "      r += 1\n",
        "    return res\n",
        "\n",
        "\n",
        "#s = [0, 1, 3, 50, 75]\n",
        "s = []\n",
        "#s = [3, 50, 75]\n",
        "mySolution = Solution()\n",
        "mySolution.missingRanges(s)"
      ],
      "metadata": {
        "colab": {
          "base_uri": "https://localhost:8080/"
        },
        "id": "JW_XTnZuZ8tJ",
        "outputId": "53b8e8e7-0a52-4785-81dc-7f6f4a2a44b4"
      },
      "execution_count": null,
      "outputs": [
        {
          "output_type": "execute_result",
          "data": {
            "text/plain": [
              "['0-99']"
            ]
          },
          "metadata": {},
          "execution_count": 48
        }
      ]
    },
    {
      "cell_type": "code",
      "source": [
        "#13. Longest Palindromic Substring\n",
        "#5. Longest Palindromic Substring\n",
        "\n",
        "class Solution:\n",
        "  def longestPalindromicSubstring(self,s):\n",
        "    prev = ''\n",
        "    for i in range(len(s)):\n",
        "    #odd size palindrome\n",
        "      l, r = i, i\n",
        "      while l>=0 and r<len(s) and s[l] == s[r]:\n",
        "          curr = s[l:r+1]\n",
        "          if len(curr) > len(prev):\n",
        "            prev=curr\n",
        "          l -= 1\n",
        "          r += 1\n",
        "    #even sized palindrome\n",
        "      l = i\n",
        "      r = l+1\n",
        "      while l>=0 and r<len(s) and s[l] == s[r]:\n",
        "            curr = s[l:r+1]\n",
        "            print(curr)\n",
        "            if len(curr) > len(prev):\n",
        "              prev=curr\n",
        "            l -= 1\n",
        "            r += 1 \n",
        "    return prev\n",
        "\n",
        "\n",
        "\n",
        "#s = 'abacdgfdcaba'\n",
        "#s = 'cbbd'\n",
        "#s = 'aaaa'\n",
        "#s = \"aacabdkacaa\"\n",
        "s = \"tattarrattat\"\n",
        "mySolution = Solution()\n",
        "mySolution.longestPalindromicSubstring(s)"
      ],
      "metadata": {
        "colab": {
          "base_uri": "https://localhost:8080/",
          "height": 209
        },
        "id": "9OKfcEvj_-OJ",
        "outputId": "de0a5a24-e457-40a8-f537-5b9eaeb15ec1"
      },
      "execution_count": null,
      "outputs": [
        {
          "output_type": "stream",
          "name": "stdout",
          "text": [
            "tt\n",
            "atta\n",
            "rr\n",
            "arra\n",
            "tarrat\n",
            "ttarratt\n",
            "attarratta\n",
            "tattarrattat\n",
            "tt\n",
            "atta\n"
          ]
        },
        {
          "output_type": "execute_result",
          "data": {
            "text/plain": [
              "'tattarrattat'"
            ],
            "application/vnd.google.colaboratory.intrinsic+json": {
              "type": "string"
            }
          },
          "metadata": {},
          "execution_count": 7
        }
      ]
    },
    {
      "cell_type": "code",
      "source": [
        "#13. Longest Palindromic Substring - tried adding a function for some common steps but ended up writing more code to process output :(\n",
        "#5. Longest Palindromic Substring\n",
        "\n",
        "class Solution:\n",
        "  def longestPalindromicSubstring(self,s):\n",
        "    \n",
        "    def lenCheck(s,l,r):\n",
        "      while l>=0 and r<len(s) and s[l]==s[r]:\n",
        "        strNow = s[l:r+1]\n",
        "        lenNow = len(strNow)\n",
        "        #print(lenNow, '_'*10)\n",
        "        l -= 1\n",
        "        r += 1\n",
        "      try:\n",
        "        return lenNow, strNow\n",
        "      except:\n",
        "        return 0, ''\n",
        "\n",
        "    res, ans = 0, ''\n",
        "    for i in range(len(s)):\n",
        "      l,r = i,i\n",
        "      resOdd, strOdd = lenCheck(s,l,r)\n",
        "      if res < resOdd:\n",
        "        res = resOdd\n",
        "        ans = strOdd\n",
        "        #print(resOdd, strOdd)\n",
        "    for i in range(len(s)):\n",
        "      l,r = i,i+1\n",
        "      resEven, strEven = lenCheck(s,l,r)\n",
        "      if res < resEven:\n",
        "        res = resEven\n",
        "        ans = strEven\n",
        "    \n",
        "    return ans\n",
        "\n",
        "\n",
        "#s = 'abacdgdcaba'\n",
        "#s = 'cbbd'\n",
        "s = 'aabaa'\n",
        "#s = \"aacabdkacaa\"\n",
        "#s = \"tattarrattat\"\n",
        "mySolution = Solution()\n",
        "mySolution.longestPalindromicSubstring(s)"
      ],
      "metadata": {
        "colab": {
          "base_uri": "https://localhost:8080/",
          "height": 70
        },
        "id": "DNjOlFR27o0A",
        "outputId": "a378084c-6bb1-43f5-b87b-cd49b3582f19"
      },
      "execution_count": null,
      "outputs": [
        {
          "output_type": "stream",
          "name": "stdout",
          "text": [
            "1 a\n",
            "5 aabaa\n"
          ]
        },
        {
          "output_type": "execute_result",
          "data": {
            "text/plain": [
              "'aabaa'"
            ],
            "application/vnd.google.colaboratory.intrinsic+json": {
              "type": "string"
            }
          },
          "metadata": {},
          "execution_count": 78
        }
      ]
    },
    {
      "cell_type": "code",
      "source": [
        "#14. One edit distance\n",
        "#leetcode problem locked\n",
        "\n",
        "class Solution:\n",
        "  def oneEdit(self, s, t):\n",
        "    def equalLength(s,t):\n",
        "      i = 0\n",
        "      diffCount = 0\n",
        "      while i < len(s):\n",
        "        if s[i] != t[i]:\n",
        "          diffCount += 1\n",
        "        i += 1\n",
        "      return True if diffCount <=1 else False\n",
        "\n",
        "    def unEqualLength(s,t):\n",
        "      diffCount = 1#s already longer than t by 1 char\n",
        "      i1,i2 = 0,0\n",
        "      while i2 < len(t):\n",
        "        if s[i1] != t[i2]:\n",
        "          diffCount += 1\n",
        "          if diffCount > 1: \n",
        "            return False\n",
        "          i1 += 1\n",
        "          continue\n",
        "        i1 += 1\n",
        "        i2 += 1\n",
        "      return True \n",
        "\n",
        "      \n",
        "    if len(s) == len(t):\n",
        "      ans = equalLength(s,t)\n",
        "    elif abs(len(s)-len(t)) == 1:\n",
        "      if len(s) > len(t):\n",
        "        ans = unEqualLength(s,t)\n",
        "      else:\n",
        "        ans = unEqualLength(t,s)\n",
        "    else:\n",
        "      ans = False\n",
        "    return ans\n",
        "\n",
        "# s = 'abcde'\n",
        "# t = 'abxxe'\n",
        "\n",
        "# s = 'abcde'\n",
        "# t = 'abcdff'\n",
        "\n",
        "mySolution = Solution()\n",
        "#mySolution.oneEdit(s,t)\n",
        "\n",
        "# mySolution.oneEdit(\"abcde\", \"abcd\")  # should return True\n",
        "# mySolution.oneEdit(\"abde\", \"abcde\")  # should return True\n",
        "# mySolution.oneEdit(\"a\", \"a\")  # should return True\n",
        "# mySolution.oneEdit(\"abcdef\", \"abqdef\")  # should return True\n",
        "# mySolution.oneEdit(\"abcdef\", \"abccef\")  # should return True\n",
        "# mySolution.oneEdit(\"abcdef\", \"abcde\")  # should return True\n",
        "# mySolution.oneEdit(\"aaa\", \"abc\")  # should return False\n",
        "# mySolution.oneEdit(\"abcde\", \"abc\")  # should return False\n",
        "# mySolution.oneEdit(\"abc\", \"abcde\")  # should return False\n",
        "# mySolution.oneEdit(\"abc\", \"bcc\")  # should return False\n",
        "mySolution.oneEdit(\"abcde\", \"abcf\")  # should return False"
      ],
      "metadata": {
        "colab": {
          "base_uri": "https://localhost:8080/"
        },
        "id": "Yjn1KYPvRX9T",
        "outputId": "0d54d243-97aa-4fc3-b207-bc0057dde034"
      },
      "execution_count": null,
      "outputs": [
        {
          "output_type": "stream",
          "name": "stdout",
          "text": [
            "a a\n",
            "b b\n",
            "c c\n",
            "d f\n"
          ]
        },
        {
          "output_type": "execute_result",
          "data": {
            "text/plain": [
              "False"
            ]
          },
          "metadata": {},
          "execution_count": 46
        }
      ]
    },
    {
      "cell_type": "code",
      "source": [
        "#15 & #16. Read N Characters Given Read4\n",
        "#157. Read N Characters Given Read4 - Leetcode question locked. \n",
        "\n",
        "#Unable to solve without access to the read4 API "
      ],
      "metadata": {
        "id": "-of1znUdbrnf"
      },
      "execution_count": null,
      "outputs": []
    },
    {
      "cell_type": "code",
      "source": [
        "#17. Reverse Integer - note how the use of % & // is used to reverse the integer\n",
        "#7. Reverse Integer\n",
        "\n",
        "class Solution:\n",
        "    def reverse(self, x):\n",
        "      neg = 1\n",
        "      if x < 0:\n",
        "        neg = -1\n",
        "        x = -1*x\n",
        "      ans = 0\n",
        "      while x != 0:\n",
        "        if (abs(ans) > (2**31)//10):\n",
        "          return 0\n",
        "        ans = ans*10 + x%10\n",
        "        x //= 10\n",
        "      return ans*neg\n",
        "  \n",
        "#x = 1463847412\n",
        "x = -123\n",
        "mySolution = Solution()\n",
        "mySolution.reverse(x)"
      ],
      "metadata": {
        "colab": {
          "base_uri": "https://localhost:8080/"
        },
        "id": "pmDEtsLSb2gT",
        "outputId": "22688df5-6efb-4188-8cf2-0d3db9183a67"
      },
      "execution_count": null,
      "outputs": [
        {
          "output_type": "stream",
          "name": "stdout",
          "text": [
            "0 123\n",
            "3 12\n",
            "32 1\n"
          ]
        },
        {
          "output_type": "execute_result",
          "data": {
            "text/plain": [
              "-321"
            ]
          },
          "metadata": {},
          "execution_count": 27
        }
      ]
    },
    {
      "cell_type": "code",
      "source": [
        "#17. Reverse Integer - another option\n",
        "#7. Reverse Integer\n",
        "\n",
        "class Solution:\n",
        "    def reverse(self, x):\n",
        "      max_int = 2**31-1\n",
        "      min_int = -2**31\n",
        "\n",
        "      if x < 0:\n",
        "        num_sign = -1\n",
        "        x = -1*x\n",
        "      else:\n",
        "        num_sign = 1\n",
        "\n",
        "      x = str(x)[::-1]\n",
        "\n",
        "      ans = 0\n",
        "      \n",
        "      for i in range(len(x)):\n",
        "        if ans < (max_int//10) or ((ans == max_int//10) and (int(x[i]) < 8)):\n",
        "          ans = ans*10+int(x[i])\n",
        "        else:\n",
        "          ans = 0\n",
        "      \n",
        "      return ans*num_sign\n",
        "  \n",
        "x = 1463847412\n",
        "mySolution = Solution()\n",
        "mySolution.reverse(x)"
      ],
      "metadata": {
        "colab": {
          "base_uri": "https://localhost:8080/"
        },
        "id": "-ry3W_zqKTPY",
        "outputId": "9704fcd9-d448-4abe-ea0c-4d4035b60c3c"
      },
      "execution_count": null,
      "outputs": [
        {
          "output_type": "execute_result",
          "data": {
            "text/plain": [
              "2147483641"
            ]
          },
          "metadata": {},
          "execution_count": 14
        }
      ]
    },
    {
      "cell_type": "code",
      "source": [
        "#18. Plus One\n",
        "#66. Plus One - this simple response was accepted on LeetCode, but there are other complicated ways to deal with each add operation, espcially if there's a 9 & carry over\n",
        "\n",
        "class Solution:\n",
        "    def plusOne(self, digits):\n",
        "      s = ''\n",
        "      for i in digits:\n",
        "        s += str(i)\n",
        "      s = int(s)+1\n",
        "      s = list(str(s))\n",
        "      return s\n",
        "\n",
        "#digits = [1,2,3]\n",
        "digits = [9,9,9]\n",
        "mySolution = Solution()\n",
        "mySolution.plusOne(digits)"
      ],
      "metadata": {
        "colab": {
          "base_uri": "https://localhost:8080/"
        },
        "id": "5exVDS-ISvVi",
        "outputId": "bf128f08-29dc-4e2d-fa44-ec6518715a56"
      },
      "execution_count": null,
      "outputs": [
        {
          "output_type": "execute_result",
          "data": {
            "text/plain": [
              "['1', '0', '0', '0']"
            ]
          },
          "metadata": {},
          "execution_count": 58
        }
      ]
    },
    {
      "cell_type": "code",
      "source": [
        "#18. Plus One\n",
        "#66. Plus One - this response was also accepted on LeetCode, more complex handling of carry over\n",
        "\n",
        "class Solution:\n",
        "    def plusOne(self, digits):\n",
        "      if digits[-1] < 9: digits[-1] = digits[-1] + 1\n",
        "      else:\n",
        "        digits[-1] = 0\n",
        "        print('here: ', digits)\n",
        "        carry = 1\n",
        "        for i in range(len(digits)-2,-1,-1):#note how we have set the start, stop and step\n",
        "          print(digits[i], carry)\n",
        "          tempAns = digits[i]+carry\n",
        "          carry = tempAns//10\n",
        "          digits[i] = tempAns%10\n",
        "          print(tempAns, carry, digits[i])\n",
        "        if carry > 0: digits = [carry] + digits\n",
        "      return digits\n",
        "\n",
        "\n",
        "#digits = [1,2,3,9]\n",
        "digits = [9,9,9]\n",
        "mySolution = Solution()\n",
        "mySolution.plusOne(digits)"
      ],
      "metadata": {
        "colab": {
          "base_uri": "https://localhost:8080/"
        },
        "id": "yzgkQKkBuDfJ",
        "outputId": "161b9055-8d9a-416d-cc16-de4226b082d8"
      },
      "execution_count": null,
      "outputs": [
        {
          "output_type": "stream",
          "name": "stdout",
          "text": [
            "here:  [9, 9, 0]\n",
            "9 1\n",
            "10 1 0\n",
            "9 1\n",
            "10 1 0\n"
          ]
        },
        {
          "output_type": "execute_result",
          "data": {
            "text/plain": [
              "[1, 0, 0, 0]"
            ]
          },
          "metadata": {},
          "execution_count": 92
        }
      ]
    },
    {
      "cell_type": "code",
      "source": [
        "#19. Palindrome Number - time O(n) and space O(1) - only solution here that does not convert integer to string- note how the last and first digits are extracted\n",
        "#9. Palindrome Number\n",
        "\n",
        "class Solution:\n",
        "    def isPalindrome(self, x):\n",
        "      if x < 0:\n",
        "        return False\n",
        "      div = 1\n",
        "      while x//div >= 10:\n",
        "        div *= 10\n",
        "      print('div: ', div)\n",
        "      while x!=0:\n",
        "        print(x, div, x//div, x%10, x%div, (x%div)//10)#(x%div) removes the first digit and then //10 removes the last\n",
        "        if x//div != x%10:\n",
        "          return False\n",
        "        x = (x%div)//10\n",
        "        div //= 100\n",
        "      return True\n",
        "\n",
        "x = 1234325\n",
        "mySolution = Solution()\n",
        "mySolution.isPalindrome(x)"
      ],
      "metadata": {
        "colab": {
          "base_uri": "https://localhost:8080/"
        },
        "id": "HaC-A-BOHWJI",
        "outputId": "9315d651-a643-47fd-b44c-6d90583246fb"
      },
      "execution_count": null,
      "outputs": [
        {
          "output_type": "stream",
          "name": "stdout",
          "text": [
            "div:  1000000\n",
            "1234325 1000000 1 5 234325 23432\n"
          ]
        },
        {
          "output_type": "execute_result",
          "data": {
            "text/plain": [
              "False"
            ]
          },
          "metadata": {},
          "execution_count": 1
        }
      ]
    },
    {
      "cell_type": "code",
      "source": [
        "#19. Palindrome Number - time O(n) and space O(n) for the str(x) - accepted on LeetCode where there is no contraint for space\n",
        "#9. Palindrome Number\n",
        "\n",
        "class Solution:\n",
        "    def isPalindrome(self, x):\n",
        "      x = str(x)\n",
        "      l,r = 0,len(x)-1\n",
        "      while l<r:\n",
        "        if x[l] != x[r]:\n",
        "          return False\n",
        "        l += 1\n",
        "        r -= 1\n",
        "      return True\n",
        "\n",
        "x = 123421\n",
        "mySolution = Solution()\n",
        "mySolution.isPalindrome(x)"
      ],
      "metadata": {
        "id": "XQmMaxEoHmFP"
      },
      "execution_count": null,
      "outputs": []
    },
    {
      "cell_type": "code",
      "source": [
        "#19. Palindrome Number - simple string reversal. time O(1), space O(n) \n",
        "#9. Palindrome Number\n",
        "\n",
        "class Solution:\n",
        "    def isPalindrome(self, x):\n",
        "      #covers the majority of cases with a simple string reversal. doesn't cover edge cases for 32 bit integer limits\n",
        "      x = str(x)\n",
        "      if x == x[::-1]:\n",
        "        return True\n",
        "      else:\n",
        "        return False\n",
        "\n",
        "x = 11211\n",
        "mySolution = Solution()\n",
        "mySolution.isPalindrome(x)"
      ],
      "metadata": {
        "colab": {
          "base_uri": "https://localhost:8080/"
        },
        "id": "e4NB6aM3Km0z",
        "outputId": "d78208fb-7c39-4b10-b03b-2a5a86f5c0ca"
      },
      "execution_count": null,
      "outputs": [
        {
          "output_type": "execute_result",
          "data": {
            "text/plain": [
              "True"
            ]
          },
          "metadata": {},
          "execution_count": 6
        }
      ]
    },
    {
      "cell_type": "code",
      "source": [
        " #20. Merge Two Sorted Lists\n",
        " #21. Merge Two Sorted Lists\n",
        "\n",
        "class ListNode:\n",
        "  def __init__(self, val=0, next=None):\n",
        "    self.val = val\n",
        "    self.next = next\n",
        "\n",
        "class Solution:\n",
        "  def mergeSortedList(self, list1, list2):\n",
        "    #create a dummy node with value None\n",
        "    #set dummy node next = min(list1,list2) i.e. the first of the nodes from list1 and list2\n",
        "    #keep incrementing through the lists, while adding\n",
        "    #return the dummy node. next as the head of the sorted list\n",
        "    dummy_node = ListNode(0, None)\n",
        "    curr = dummy_node\n",
        "    while list1 and list2:\n",
        "      if list1.val <= list2.val:\n",
        "        curr.next = list1\n",
        "        list1 = list1.next\n",
        "      else:\n",
        "        curr.next = list2\n",
        "        list2 = list2.next\n",
        "      curr = curr.next\n",
        "\n",
        "    curr.next = list1 or list2 #unequal length lists\n",
        "\n",
        "    return dummy_node.next\n",
        "\n",
        "node13 = ListNode(4)\n",
        "node12 = ListNode(2,node13)\n",
        "node11 = ListNode(0,node12)\n",
        "list1 = node11\n",
        "\n",
        "node23 = ListNode(6)\n",
        "node22 = ListNode(5,node23)\n",
        "node21 = ListNode(3,node22)\n",
        "list2 = node21\n",
        "      \n",
        "mySolution = Solution()\n",
        "x = mySolution.mergeSortedList(list1, list2)"
      ],
      "metadata": {
        "id": "ADELM9L7PAR9"
      },
      "execution_count": null,
      "outputs": []
    },
    {
      "cell_type": "code",
      "source": [
        "#21. Add Two Numbers\n",
        "#2. Add Two Numbers\n",
        "\n",
        "class ListNode:\n",
        "    def __init__(self, val=0, next=None):\n",
        "        self.val = val\n",
        "        self.next = next\n",
        "class Solution:\n",
        "    def addTwoNumbers(self, l1, l2):\n",
        "      dummy_node = ListNode(0)\n",
        "      curr = dummy_node\n",
        "      ten_val = 0\n",
        "      while l1 or l2 or ten_val:\n",
        "        v1 = l1.val if l1 else 0\n",
        "        v2 = l2.val if l2 else 0 \n",
        "        unit_val = (v1 + v2 + ten_val)%10\n",
        "        ten_val = (v1 + v2 + ten_val)//10\n",
        "        curr.next = ListNode(unit_val)\n",
        "        curr = curr.next\n",
        "        l1 = l1.next if l1 else None\n",
        "        l2 = l2.next if l2 else None\n",
        "        \n",
        "      return dummy_node.next\n",
        "\n",
        "# node13 = ListNode(4)\n",
        "# node12 = ListNode(2,node13)\n",
        "# node11 = ListNode(0,node12)\n",
        "# list1 = node11\n",
        "\n",
        "# node23 = ListNode(6)\n",
        "# node22 = ListNode(5,node23)\n",
        "# node21 = ListNode(3,node22)\n",
        "# list2 = node21\n",
        "\n",
        "node12 = ListNode(9)\n",
        "node11 = ListNode(0, node12)\n",
        "list1 = node11\n",
        "\n",
        "node22 = ListNode(1)\n",
        "node21 = ListNode(0, node22)\n",
        "list2 = node21\n",
        "\n",
        "# node13 = ListNode(3)\n",
        "# node12 = ListNode(4,node13)\n",
        "# node11 = ListNode(2,node12)\n",
        "# list1 = node11\n",
        "\n",
        "# node23 = ListNode(4)\n",
        "# node22 = ListNode(6,node23)\n",
        "# node21 = ListNode(5,node22)\n",
        "# list2 = node21\n",
        "      \n",
        "mySolution = Solution()\n",
        "x = mySolution.addTwoNumbers(list1, list2)"
      ],
      "metadata": {
        "id": "tSw5RKq6Pf3J"
      },
      "execution_count": null,
      "outputs": []
    },
    {
      "cell_type": "code",
      "source": [
        "#22. Swap Nodes in Pairs\n",
        "#24. Swap Nodes in Pairs\n",
        "\n",
        "class ListNode:\n",
        "  def __init__(self, val=0, next=None):\n",
        "    self.val = val\n",
        "    self.next = next\n",
        "\n",
        "class Solution:\n",
        "  def swapPairs(self, head):\n",
        "    dummy = ListNode(0)\n",
        "    dummy.next = head\n",
        "    p = head\n",
        "    prev = dummy\n",
        "    while p and p.next:\n",
        "      #new vars\n",
        "      q = p.next\n",
        "      r = p.next.next\n",
        "      #swap\n",
        "      prev.next = q\n",
        "      q.next = p\n",
        "      p.next = r\n",
        "      #increment\n",
        "      prev = p\n",
        "      p = r\n",
        "    return dummy.next\n",
        "\n",
        "  def printLL(self, head):\n",
        "    while head:\n",
        "      print(head.val)\n",
        "      head = head.next\n",
        "\n",
        "# node4 = ListNode(4)\n",
        "# node3 = ListNode(3, node4)\n",
        "# head = node3\n",
        "\n",
        "node4 = ListNode(4)\n",
        "node3 = ListNode(3, node4)\n",
        "node2 = ListNode(2, node3)\n",
        "node1 = ListNode(1, node2)\n",
        "head = node1\n",
        "\n",
        "mySolution = Solution()\n",
        "mySolution.printLL(head)\n",
        "x = mySolution.swapPairs(head)\n",
        "mySolution.printLL(x)"
      ],
      "metadata": {
        "colab": {
          "base_uri": "https://localhost:8080/"
        },
        "id": "GcX78P65mO3W",
        "outputId": "0012a64e-6b04-493a-8939-781bc68557e2"
      },
      "execution_count": null,
      "outputs": [
        {
          "output_type": "stream",
          "name": "stdout",
          "text": [
            "1\n",
            "2\n",
            "3\n",
            "4\n",
            "2\n",
            "1\n",
            "4\n",
            "3\n"
          ]
        }
      ]
    },
    {
      "cell_type": "code",
      "source": [
        "#23. Merge K Sorted Linked Lists\n",
        "#23. Merge k Sorted Lists\n",
        "\n",
        "class ListNode:\n",
        "  def __init__(self, val = 0, next = None):\n",
        "    self.val = val\n",
        "    self.next = next\n",
        "\n",
        "class Solution:\n",
        "  def mergeKLists(self, lists):\n",
        "    if not lists or len(lists) == 0:\n",
        "      return None\n",
        "    while len(lists) > 1:\n",
        "      newList = []\n",
        "      for i in range(0, len(lists), 2):\n",
        "        l1 = lists[i]\n",
        "        l2 = lists[i+1] if (i+1) < len(lists) else None\n",
        "        newList.append(self.mergeSortedLL(l1,l2))\n",
        "      lists = newList\n",
        "    return lists[0]\n",
        "\n",
        "\n",
        "  def mergeSortedLL(self, list1, list2):\n",
        "    dummy = ListNode(0)\n",
        "    temp = dummy\n",
        "\n",
        "    while list1 and list2:\n",
        "      if list1.val <= list2.val:\n",
        "        temp.next = list1\n",
        "        temp = temp.next\n",
        "        list1 = list1.next\n",
        "      else:\n",
        "        temp.next = list2\n",
        "        temp = temp.next\n",
        "        list2 = list2.next\n",
        "\n",
        "    if list1:\n",
        "      temp.next = list1\n",
        "    if list2:\n",
        "      temp.next = list2\n",
        "    return dummy.next\n",
        "\n",
        "  def printLL(self, l):\n",
        "    while l:\n",
        "      print(l.val)\n",
        "      l = l.next\n",
        "      \n",
        "   \n",
        "node15 = ListNode(7)\n",
        "node14 = ListNode(4,node15)\n",
        "node13 = ListNode(4,node14)\n",
        "node12 = ListNode(3,node13)\n",
        "node11 = ListNode(2,node12)\n",
        "list1 = node11\n",
        "\n",
        "node23 = ListNode(6)\n",
        "node22 = ListNode(5,node23)\n",
        "node21 = ListNode(1,node22)\n",
        "list2 = node21\n",
        "\n",
        "node33 = ListNode(12)\n",
        "node32 = ListNode(11,node33)\n",
        "node31 = ListNode(10,node32)\n",
        "list3 = node31\n",
        "\n",
        "lists = [list1, list2, list3]\n",
        "mySolution = Solution()\n",
        "#mySolution.printLL(node21)\n",
        "#x = mySolution.mergeSortedLL(list1, list2)\n",
        "#mySolution.printLL(x)\n",
        "\n",
        "x = mySolution.mergeKLists(lists)\n",
        "mySolution.printLL(x)"
      ],
      "metadata": {
        "id": "f8ociLN8JoYG"
      },
      "execution_count": null,
      "outputs": []
    },
    {
      "cell_type": "code",
      "source": [
        "#23. Merge K Sorted Linked Lists\n",
        "#23. Merge k Sorted Lists\n",
        "\n",
        "class ListNode:\n",
        "  def __init__(self, val = 0, next = None):\n",
        "    self.val = val\n",
        "    self.next = next\n",
        "\n",
        "class Solution:\n",
        "  def mergeKLists(self, lists):\n",
        "    if len(lists) == 0 or not lists:\n",
        "      return 'invalid'\n",
        "    while len(lists) > 1:\n",
        "      newList = []\n",
        "      for i in range(0,len(lists)-1,2):\n",
        "        l1 = lists[i]\n",
        "        l2 = lists[i+1] if i+1 < len(lists)-1 else None\n",
        "        newList.append(self.mergeTwoLL(l1,l2))\n",
        "      lists = newList\n",
        "    return lists[0]\n",
        "\n",
        "  def mergeTwoLL(self,l1,l2):\n",
        "    dummy_node = ListNode(0)\n",
        "    temp = dummy_node\n",
        "    while l1 and l2:\n",
        "      if l1.val <= l2.val:\n",
        "        temp.next = l1\n",
        "        temp = temp.next\n",
        "        l1 = l1.next\n",
        "      else:\n",
        "        temp.next = l2\n",
        "        temp = temp.next\n",
        "        l2 = l2.next\n",
        "    temp.next = l1 or l2\n",
        "    return dummy_node.next\n",
        "    \n",
        "  def printLL(self, l):\n",
        "    while l:\n",
        "      print(l.val)\n",
        "      l = l.next\n",
        "      \n",
        "   \n",
        "node15 = ListNode(7)\n",
        "node14 = ListNode(4,node15)\n",
        "node13 = ListNode(4,node14)\n",
        "node12 = ListNode(3,node13)\n",
        "node11 = ListNode(2,node12)\n",
        "list1 = node11\n",
        "\n",
        "node23 = ListNode(6)\n",
        "node22 = ListNode(5,node23)\n",
        "node21 = ListNode(1,node22)\n",
        "list2 = node21\n",
        "\n",
        "node33 = ListNode(12)\n",
        "node32 = ListNode(11,node33)\n",
        "node31 = ListNode(10,node32)\n",
        "list3 = node31\n",
        "\n",
        "lists = [list1, list2, list3]\n",
        "mySolution = Solution()\n",
        "#mySolution.mergeKLists(lists)\n",
        "#mySolution.printLL(node21)\n",
        "#x = mySolution.mergeSortedLL(list1, list2)\n",
        "#mySolution.printLL(x)\n",
        "\n",
        "x = mySolution.mergeKLists(lists)\n",
        "mySolution.printLL(x)"
      ],
      "metadata": {
        "colab": {
          "base_uri": "https://localhost:8080/"
        },
        "id": "Qusd4Tth6M2T",
        "outputId": "2602d5ef-aa7b-4e05-f2e7-6871461652d1"
      },
      "execution_count": null,
      "outputs": [
        {
          "output_type": "stream",
          "name": "stdout",
          "text": [
            "1\n",
            "2\n",
            "3\n",
            "4\n",
            "4\n",
            "5\n",
            "6\n",
            "7\n"
          ]
        }
      ]
    },
    {
      "cell_type": "code",
      "source": [
        "#24. Copy List with Random Pointer\n",
        "#138. Copy List with Random Pointer\n",
        "\n",
        "class Node:\n",
        "    def __init__(self, x, next = None, random = None):\n",
        "        self.val = int(x)\n",
        "        self.next = next\n",
        "        self.random = random\n",
        "\n",
        "class Solution:\n",
        "    def copyRandomList(self, head):\n",
        "        temp = head\n",
        "        nodes_dict = {None: None}\n",
        "        while temp:\n",
        "          copy = ListNode(temp.val)\n",
        "          nodes_dict[temp] = copy\n",
        "          temp = temp.next\n",
        "        temp = head\n",
        "        while temp:\n",
        "          copy = nodes_dict[temp]\n",
        "          copy.next = nodes_dict[temp.next]\n",
        "          copy.random = nodes_dict[temp.random]\n",
        "          temp = temp.next\n",
        "\n",
        "        return nodes_dict[head]"
      ],
      "metadata": {
        "id": "Yo3FfibeUrDQ"
      },
      "execution_count": null,
      "outputs": []
    },
    {
      "cell_type": "code",
      "source": [
        "#25. Validate Binary Search Tree - approach that updates the range within which each node's value needs to fall\n",
        "#98. Validate Binary Search Tree\n",
        "\n",
        "class TreeNode:\n",
        "  def __init__(self, val=0, left=None, right=None):\n",
        "    self.val = val\n",
        "    self.left = left\n",
        "    self.right = right\n",
        "\n",
        "class Solution:\n",
        "  def isValidBST(self, root):\n",
        "\n",
        "    def valid(node, left, right):\n",
        "      if not node:\n",
        "        return True\n",
        "\n",
        "      if not (left < node.val and node.val < right):\n",
        "        return False\n",
        "\n",
        "      return (valid(node.left, left, node.val) and valid(node.right, node.val, right))\n",
        "\n",
        "    return valid(root, float(\"-inf\"), float(\"inf\"))\n",
        "\n",
        "node5 = TreeNode(4)\n",
        "node4 = TreeNode(10)\n",
        "node3 = TreeNode(7, node5, node4)\n",
        "node2 = TreeNode(3)\n",
        "node1 = TreeNode(5, node2, node3)\n",
        "\n",
        "mySolution = Solution()\n",
        "mySolution.isValidBST(node1)"
      ],
      "metadata": {
        "id": "JtpgIv7TUvmi",
        "colab": {
          "base_uri": "https://localhost:8080/"
        },
        "outputId": "9f17ad77-6b6f-4ee4-bd32-bdbbb4c92546"
      },
      "execution_count": null,
      "outputs": [
        {
          "output_type": "execute_result",
          "data": {
            "text/plain": [
              "False"
            ]
          },
          "metadata": {},
          "execution_count": 1
        }
      ]
    },
    {
      "cell_type": "code",
      "source": [
        "#25. Validate Binary Search Tree - in order tree traversal approach\n",
        "#98. Validate Binary Search Tree\n",
        "\n",
        "class TreeNode:\n",
        "  def __init__(self, val=0, left=None, right=None):\n",
        "    self.val = val\n",
        "    self.left = left\n",
        "    self.right = right\n",
        "\n",
        "class Solution:\n",
        "  def isValidBST(self, root):\n",
        "    current_node = root\n",
        "    results = []\n",
        "\n",
        "    def traverse(current_node):\n",
        "      if current_node.left:\n",
        "        traverse(current_node.left)\n",
        "      results.append(current_node.val)\n",
        "      if current_node.right:\n",
        "        traverse(current_node.right)\n",
        "\n",
        "    traverse(current_node)\n",
        "    \n",
        "    for i in range(1,len(results)):\n",
        "      if results[i] <= results[i-1]:\n",
        "        return False\n",
        "\n",
        "    return True\n",
        "\n",
        "node5 = TreeNode(4)\n",
        "node4 = TreeNode(10)\n",
        "node3 = TreeNode(7, node5, node4)\n",
        "node2 = TreeNode(3)\n",
        "node1 = TreeNode(5, node2, node3)\n",
        "\n",
        "mySolution = Solution()\n",
        "mySolution.isValidBST(node1)"
      ],
      "metadata": {
        "id": "_CtxAu7HUytB"
      },
      "execution_count": null,
      "outputs": []
    },
    {
      "cell_type": "code",
      "source": [
        "#26. Maximum Depth of Binary Tree\n",
        "#104. Maximum Depth of Binary Tree\n",
        "\n",
        "# Definition for a binary tree node.\n",
        "class TreeNode:\n",
        "    def __init__(self, val=0, left=None, right=None):\n",
        "        self.val = val\n",
        "        self.left = left\n",
        "        self.right = right\n",
        "class Solution:\n",
        "    def maxDepth(self, root):\n",
        "      if not root:\n",
        "        print('not root')\n",
        "        return 0\n",
        "      else:\n",
        "        print('else', root.val)\n",
        "      return 1+max(self.maxDepth(root.left), self.maxDepth(root.right))\n",
        "\n",
        "node7 = TreeNode(18)\n",
        "node6 = TreeNode(27)\n",
        "node5 = TreeNode(52)\n",
        "node4 = TreeNode(82)\n",
        "node3 = TreeNode(21, node7, node6)\n",
        "node2 = TreeNode(76, node5, node4)\n",
        "node1 = TreeNode(47, node3, node2)\n",
        "\n",
        "mySolution = Solution()\n",
        "mySolution.maxDepth(node1)"
      ],
      "metadata": {
        "id": "jus0c4RqU89T"
      },
      "execution_count": null,
      "outputs": []
    },
    {
      "cell_type": "code",
      "source": [
        "#27. Minimum Depth of Binary Tree\n",
        "#111. Minimum Depth of Binary Tree\n",
        "\n",
        "# Definition for a binary tree node.\n",
        "class TreeNode:\n",
        "    def __init__(self, val=0, left=None, right=None):\n",
        "        self.val = val\n",
        "        self.left = left\n",
        "        self.right = right\n",
        "class Solution:\n",
        "    def minDepth(self, root):\n",
        "      if not root:\n",
        "        return 0\n",
        "      if not root.left:\n",
        "        return 1+(self.minDepth(root.right))\n",
        "      if not root.right:\n",
        "        return 1+(self.minDepth(root.left))\n",
        "      return 1+min(self.minDepth(root.left), self.minDepth(root.right))\n",
        "\n",
        "# node7 = TreeNode(18)\n",
        "# node6 = TreeNode(27)\n",
        "# node5 = TreeNode(52)\n",
        "# node4 = TreeNode(82)\n",
        "# node3 = TreeNode(21, node7, node6)\n",
        "# node2 = TreeNode(76, node5, node4)\n",
        "# node1 = TreeNode(47, node3, node2)\n",
        "\n",
        "\n",
        "node5 = TreeNode(6)\n",
        "node4 = TreeNode(5,None, node5)\n",
        "node3 = TreeNode(4,None, node4)\n",
        "node2 = TreeNode(3,None, node3)\n",
        "node1 = TreeNode(2,None, node2)\n",
        "\n",
        "mySolution = Solution()\n",
        "mySolution.minDepth(node1)"
      ],
      "metadata": {
        "id": "BKX-E_MSU_2s",
        "colab": {
          "base_uri": "https://localhost:8080/"
        },
        "outputId": "a9be8db3-0eb9-4b38-a3e0-54e2e3179139"
      },
      "execution_count": null,
      "outputs": [
        {
          "output_type": "execute_result",
          "data": {
            "text/plain": [
              "5"
            ]
          },
          "metadata": {},
          "execution_count": 15
        }
      ]
    },
    {
      "cell_type": "code",
      "source": [
        "#27. Minimum Depth of Binary Tree - using BFS\n",
        "#111. Minimum Depth of Binary Tree\n",
        "\n",
        "# Definition for a binary tree node.\n",
        "class TreeNode:\n",
        "    def __init__(self, val=0, left=None, right=None):\n",
        "        self.val = val\n",
        "        self.left = left\n",
        "        self.right = right\n",
        "class Solution:\n",
        "    def minDepth(self, root):\n",
        "      if not root:\n",
        "        return 0\n",
        "      queue = []\n",
        "      right_most = root\n",
        "      queue.append(right_most)\n",
        "      depth = 1\n",
        "\n",
        "      while len(queue) > 0:\n",
        "        current_node = queue.pop(0)\n",
        "        if not current_node.left and not current_node.right: break\n",
        "        if current_node.left: queue.append(current_node.left)\n",
        "        if current_node.right: queue.append(current_node.right)\n",
        "        if current_node == right_most:\n",
        "          depth += 1\n",
        "          if current_node.right:\n",
        "            right_most = current_node.right\n",
        "          else:\n",
        "            right_most = current_node.left\n",
        "\n",
        "      return depth\n",
        "\n",
        "      \n",
        "\n",
        "# node7 = TreeNode(18)\n",
        "# node6 = TreeNode(27)\n",
        "# node5 = TreeNode(52)\n",
        "# node4 = TreeNode(82)\n",
        "# node3 = TreeNode(21, node7, node6)\n",
        "# node2 = TreeNode(76, node5, node4)\n",
        "# node1 = TreeNode(47, node3, node2)\n",
        "\n",
        "\n",
        "node5 = TreeNode(6)\n",
        "node4 = TreeNode(5,None, node5)\n",
        "node3 = TreeNode(4,None, node4)\n",
        "node2 = TreeNode(3,None, node3)\n",
        "node1 = TreeNode(2,None, node2)\n",
        "\n",
        "mySolution = Solution()\n",
        "mySolution.minDepth(node1)"
      ],
      "metadata": {
        "id": "4XPHgdjkVCXO"
      },
      "execution_count": null,
      "outputs": []
    },
    {
      "cell_type": "code",
      "source": [
        "#28. Balanced Binary Tree - Top down recursion\n",
        "#110. Balanced Binary Tree \n",
        "\n",
        "class TreeNode:\n",
        "  def __init__(self, val = 0, left = None, right = None):\n",
        "    self.val = val\n",
        "    self.left = left\n",
        "    self.right = right\n",
        "\n",
        "class Solution:\n",
        "  def isBalanced(self, root):\n",
        "    if not root:\n",
        "      return True\n",
        "\n",
        "    def maxDepth(root):\n",
        "      if not root:\n",
        "        return 0\n",
        "      return 1+max(maxDepth(root.left), maxDepth(root.right))\n",
        "\n",
        "    return (abs(maxDepth(root.left) - maxDepth(root.right)) <= 1) and self.isBalanced(root.left) and self.isBalanced(root.right)\n",
        "    \n",
        "    \n",
        "# node7 = TreeNode(18)\n",
        "# node6 = TreeNode(27)\n",
        "# node5 = TreeNode(52)\n",
        "# node4 = TreeNode(82)\n",
        "# node3 = TreeNode(21, node7, node6)\n",
        "# node2 = TreeNode(76, node5, node4)\n",
        "# node1 = TreeNode(47, node3, node2)\n",
        "\n",
        "node5 = TreeNode(52)\n",
        "node4 = TreeNode(82)\n",
        "node3 = TreeNode(21)\n",
        "node2 = TreeNode(76, node5, node4)\n",
        "node1 = TreeNode(47, node3, node2)\n",
        "\n",
        "\n",
        "mySolution = Solution()\n",
        "mySolution.isBalanced(node1)"
      ],
      "metadata": {
        "id": "wY0hAvMXVHEC",
        "colab": {
          "base_uri": "https://localhost:8080/"
        },
        "outputId": "ec72d9ef-6e82-408e-e81a-971bd88a65a4"
      },
      "execution_count": null,
      "outputs": [
        {
          "output_type": "execute_result",
          "data": {
            "text/plain": [
              "True"
            ]
          },
          "metadata": {},
          "execution_count": 14
        }
      ]
    },
    {
      "cell_type": "code",
      "source": [
        "#28. Balanced Binary Tree - Bottom-up recursion\n",
        "#110. Balanced Binary Tree \n",
        "\n",
        "\n",
        "class TreeNode:\n",
        "  def __init__(self, val = 0, left = None, right = None):\n",
        "    self.val = val\n",
        "    self.left = left\n",
        "    self.right = right\n",
        "\n",
        "class Solution:\n",
        "  def isBalanced(self, root):\n",
        "\n",
        "    def maxDepth(root):\n",
        "      if not root:\n",
        "        return 0\n",
        "      L = maxDepth(root.left)\n",
        "      if L == -1: return -1\n",
        "      R = maxDepth(root.right)\n",
        "      if R == -1: return -1\n",
        "      if abs(L-R) <= 1:\n",
        "        return 1+max(L,R)\n",
        "      else:\n",
        "        return -1\n",
        "\n",
        "    return maxDepth(root) != -1\n",
        "\n",
        "\n",
        "    \n",
        "    \n",
        "# node7 = TreeNode(18)\n",
        "# node6 = TreeNode(27)\n",
        "# node5 = TreeNode(52)\n",
        "# node4 = TreeNode(82)\n",
        "# node3 = TreeNode(21, node7, node6)\n",
        "# node2 = TreeNode(76, node5, node4)\n",
        "# node1 = TreeNode(47, node3, node2)\n",
        "\n",
        "node5 = TreeNode(52)\n",
        "node4 = TreeNode(82)\n",
        "node3 = TreeNode(21)\n",
        "node2 = TreeNode(76, node5, node4)\n",
        "node1 = TreeNode(47, node3, node2)\n",
        "\n",
        "\n",
        "mySolution = Solution()\n",
        "mySolution.isBalanced(node1)"
      ],
      "metadata": {
        "id": "FAnoq2kaVRty",
        "colab": {
          "base_uri": "https://localhost:8080/"
        },
        "outputId": "b2d0b554-88f0-4507-f400-0145540805e9"
      },
      "execution_count": null,
      "outputs": [
        {
          "output_type": "execute_result",
          "data": {
            "text/plain": [
              "True"
            ]
          },
          "metadata": {},
          "execution_count": 18
        }
      ]
    },
    {
      "cell_type": "code",
      "source": [
        "#29. Convert Sorted Array to Balanced Binary Search Tree\n",
        "#108. Convert Sorted Array to Binary Search Tree\n",
        "\n",
        "class TreeNode:\n",
        "  def __init__(self, val = 0, left = None, right = None):\n",
        "    self.val = val\n",
        "    self.left = left\n",
        "    self.right = right\n",
        "\n",
        "class Solution:\n",
        "  def sortedArrayToBST(self, nums):\n",
        "    def rec(l,r):\n",
        "      if l > r:\n",
        "        return None\n",
        "\n",
        "      m = (l+r)//2\n",
        "      node = TreeNode(nums[m])\n",
        "      node.left = rec(l,m-1)\n",
        "      node.right = rec(m+1,r)\n",
        "\n",
        "      return node\n",
        "\n",
        "    return rec(0,len(nums)-1)\n",
        "\n",
        "\n",
        "nums = [-10,-3,0,5,9]\n",
        "mySolution = Solution()\n",
        "mySolution.sortedArrayToBST(nums)"
      ],
      "metadata": {
        "colab": {
          "base_uri": "https://localhost:8080/"
        },
        "id": "fZw84KIrVaoi",
        "outputId": "eefb593f-355f-4012-92b5-fbf319122031"
      },
      "execution_count": null,
      "outputs": [
        {
          "output_type": "execute_result",
          "data": {
            "text/plain": [
              "<__main__.TreeNode at 0x7f8de064df10>"
            ]
          },
          "metadata": {},
          "execution_count": 2
        }
      ]
    },
    {
      "cell_type": "code",
      "source": [
        "#30. Convert Sorted List to Balanced Binary Search Tree - by copying values from linked list to a simple list - solution accepted on LeetCode\n",
        "#109. Convert Sorted List to Binary Search Tree\n",
        "\n",
        "class LinkedList:\n",
        "  def __init__(self, val=0, next=None):\n",
        "    self.val = val\n",
        "    self.next = next\n",
        "class TreeNode:\n",
        "  def __init__(self, val = 0, left = None, right = None):\n",
        "    self.val = val\n",
        "    self.left = left\n",
        "    self.right = right\n",
        "\n",
        "class Solution:\n",
        "  def createBST(self, node):\n",
        "    results = []\n",
        "    while node:\n",
        "      results.append(node.val)\n",
        "      node = node.next\n",
        "\n",
        "    def rec(l,r):\n",
        "      if l>r:\n",
        "        return None\n",
        "      m = (l+r)//2\n",
        "      node = TreeNode(results[m])\n",
        "      node.left = rec(l,m-1)\n",
        "      node.right = rec(m+1,r)\n",
        "      return node\n",
        "    \n",
        "    return rec(0,len(results)-1)\n",
        "\n",
        "\n",
        "\n",
        "\n",
        "node4 = LinkedList(4)\n",
        "node3 = LinkedList(3, node4)\n",
        "node2 = LinkedList(2, node3)\n",
        "node1 = LinkedList(1, node2)\n",
        "\n",
        "mySolution = Solution()\n",
        "mySolution.createBST(node1)"
      ],
      "metadata": {
        "id": "rumZ1xuCYB5k"
      },
      "execution_count": null,
      "outputs": []
    },
    {
      "cell_type": "code",
      "source": [
        "#30. Convert Sorted List to Balanced Binary Search Tree - bottom up recursion while assigning left & right nodes, no additional list\n",
        "#109. Convert Sorted List to Binary Search Tree\n",
        "\n",
        "class LinkedList:\n",
        "  def __init__(self, val=0, next=None):\n",
        "    self.val = val\n",
        "    self.next = next\n",
        "class TreeNode:\n",
        "  def __init__(self, val = 0, left = None, right = None):\n",
        "    self.val = val\n",
        "    self.left = left\n",
        "    self.right = right\n",
        "\n",
        "class Solution:\n",
        "  def createBST(self, head):\n",
        "    list_head = head\n",
        "    n = 0\n",
        "    p = head\n",
        "    while p:\n",
        "      n += 1\n",
        "      p = p.next\n",
        "\n",
        "    def rec(l,r):\n",
        "      nonlocal list_head\n",
        "      if l>r:\n",
        "        return None\n",
        "      m = (l+r)//2\n",
        "      print('l:', l, 'r:', r, 'm:', m)\n",
        "      leftChild = rec(l,m-1)\n",
        "      parent = TreeNode(list_head.val)\n",
        "      #print('parent.val: ', parent.val)\n",
        "      parent.left = leftChild\n",
        "      #print('parent.left: ', parent.left)\n",
        "      # if parent.left:\n",
        "      #   print('parent.left.val: ', parent.left.val)\n",
        "      list_head = list_head.next\n",
        "      parent.right = rec(m+1, r)\n",
        "      #print('parent.right: ', parent.right)\n",
        "      # if parent.left:\n",
        "      #   print('parent.right.val: ', parent.right.val)\n",
        "      print('end rec', 'leftChild:', leftChild, 'parent:', parent.val, 'parent.right:', parent.right, 'l:', l, 'r:', r, 'm:', m)\n",
        "      return parent\n",
        "    print('outside rec loop:')\n",
        "    \n",
        "    return rec(0,n-1)\n",
        "\n",
        "\n",
        "\n",
        "\n",
        "node7 = LinkedList(7)\n",
        "node6 = LinkedList(6, node7)\n",
        "node5 = LinkedList(5, node6)\n",
        "node4 = LinkedList(4, node5)\n",
        "node3 = LinkedList(3, node4)\n",
        "node2 = LinkedList(2, node3)\n",
        "node1 = LinkedList(1, node2)\n",
        "\n",
        "mySolution = Solution()\n",
        "x = mySolution.createBST(node1)"
      ],
      "metadata": {
        "id": "vbaVmJzaYFra",
        "colab": {
          "base_uri": "https://localhost:8080/"
        },
        "outputId": "7b7a7a54-a599-4517-947f-659dc15d7396"
      },
      "execution_count": null,
      "outputs": [
        {
          "output_type": "stream",
          "name": "stdout",
          "text": [
            "outside rec loop:\n",
            "l: 0 r: 6 m: 3\n",
            "l: 0 r: 2 m: 1\n",
            "l: 0 r: 0 m: 0\n",
            "end rec leftChild: None parent: 1 parent.right: None l: 0 r: 0 m: 0\n",
            "l: 2 r: 2 m: 2\n",
            "end rec leftChild: None parent: 3 parent.right: None l: 2 r: 2 m: 2\n",
            "end rec leftChild: <__main__.TreeNode object at 0x7fa7f7e3a890> parent: 2 parent.right: <__main__.TreeNode object at 0x7fa7f7e2f390> l: 0 r: 2 m: 1\n",
            "l: 4 r: 6 m: 5\n",
            "l: 4 r: 4 m: 4\n",
            "end rec leftChild: None parent: 5 parent.right: None l: 4 r: 4 m: 4\n",
            "l: 6 r: 6 m: 6\n",
            "end rec leftChild: None parent: 7 parent.right: None l: 6 r: 6 m: 6\n",
            "end rec leftChild: <__main__.TreeNode object at 0x7fa7f7ddfb90> parent: 6 parent.right: <__main__.TreeNode object at 0x7fa7f7dca1d0> l: 4 r: 6 m: 5\n",
            "end rec leftChild: <__main__.TreeNode object at 0x7fa7f7e40cd0> parent: 4 parent.right: <__main__.TreeNode object at 0x7fa7f7de0a90> l: 0 r: 6 m: 3\n"
          ]
        }
      ]
    },
    {
      "cell_type": "code",
      "source": [
        "#31. Binary Tree Maximum Path Sum\n",
        "#124. Binary Tree Maximum Path Sum\n",
        "\n",
        "\n",
        "class TreeNode:\n",
        "  def __init__(self, val = 0, left = None, right = None):\n",
        "    self.val = val\n",
        "    self.left = left\n",
        "    self.right = right\n",
        "\n",
        "class Solution:\n",
        "  def maxPathSum(self, root):\n",
        "    \n",
        "\n",
        "    def findMax(root):\n",
        "      nonlocal maxSum\n",
        "      if not root:\n",
        "        return 0\n",
        "      left = findMax(root.left)\n",
        "      right = findMax(root.right)\n",
        "      maxSum = max(root.val + left + right, maxSum)\n",
        "      ret = root.val + max(left, right)\n",
        "      print(root.val, left, right, maxSum, ret)\n",
        "      return max(ret,0)\n",
        "\n",
        "    maxSum = float(\"-inf\")\n",
        "    findMax(root)\n",
        "    return maxSum\n",
        "\n",
        "node7 = TreeNode(18)\n",
        "node6 = TreeNode(27)\n",
        "node5 = TreeNode(52)\n",
        "node4 = TreeNode(82)\n",
        "node3 = TreeNode(21, node7, node6)\n",
        "node2 = TreeNode(76, node5, node4)\n",
        "node1 = TreeNode(47, node3, node2)\n",
        "\n",
        "\n",
        "mySolution = Solution()\n",
        "mySolution.maxPathSum(node1)"
      ],
      "metadata": {
        "id": "ce3o0thLYPu0"
      },
      "execution_count": null,
      "outputs": []
    },
    {
      "cell_type": "code",
      "source": [
        "#32. Binary Tree Upside Down - fails when it sees a None\n",
        "#156. Binary Tree Upside Down\n",
        "\n",
        "\n",
        "class TreeNode:\n",
        "  def __init__(self, val = 0, left = None, right = None):\n",
        "    self.val = val\n",
        "    self.left = left\n",
        "    self.right = right\n",
        "\n",
        "class Solution:\n",
        "  def upsideDownBinaryTree(self, root):\n",
        "    def rec(p, parent):\n",
        "      if not p: return parent\n",
        "      root = rec(p.left, p)\n",
        "      #print(root.val, parent.val)\n",
        "      if parent:\n",
        "        p.left = parent.right\n",
        "        parent.right = parent\n",
        "      return root\n",
        "\n",
        "    return rec(root, None)\n",
        "\n",
        "\n",
        "node7 = TreeNode(18)\n",
        "node6 = TreeNode(27)\n",
        "node5 = TreeNode(52)\n",
        "node4 = TreeNode(82)\n",
        "node3 = TreeNode(21, node7, node6)\n",
        "node2 = TreeNode(76, node5, node4)\n",
        "node1 = TreeNode(47, node3, node2)\n",
        "\n",
        "\n",
        "mySolution = Solution()\n",
        "x = mySolution.upsideDownBinaryTree(node1)"
      ],
      "metadata": {
        "id": "UfqsyZ5tYUrR"
      },
      "execution_count": null,
      "outputs": []
    },
    {
      "cell_type": "code",
      "source": [
        "#33. Single Number - 2 passes, uses dict\n",
        "#136. Single Number\n",
        "\n",
        "class Solution:\n",
        "  def singleNumber(self, nums):\n",
        "    nums_dict = {}\n",
        "    for i in range(len(nums)):\n",
        "      nums_dict[nums[i]] = nums_dict.get(nums[i],0)+1\n",
        "    for k,v in enumerate(nums_dict.items()):\n",
        "      #print(k,v[0],v[1])\n",
        "      if v[1] == 1:\n",
        "        return (v[0])\n",
        "\n",
        "nums = [2,2,1,1,3]\n",
        "\n",
        "mySolution = Solution()\n",
        "mySolution.singleNumber(nums)"
      ],
      "metadata": {
        "id": "yYebWxYhYbGK",
        "colab": {
          "base_uri": "https://localhost:8080/"
        },
        "outputId": "96763c3c-059e-4ac7-f82c-7119a9501bec"
      },
      "execution_count": null,
      "outputs": [
        {
          "output_type": "execute_result",
          "data": {
            "text/plain": [
              "3"
            ]
          },
          "metadata": {},
          "execution_count": 41
        }
      ]
    },
    {
      "cell_type": "code",
      "source": [
        "#33. Single Number - 1 pass, uses set\n",
        "#136. Single Number\n",
        "\n",
        "class Solution:\n",
        "  def singleNumber(self, nums):\n",
        "    nums_set = set()\n",
        "    for n in nums:\n",
        "      if n in nums_set:\n",
        "        nums_set.remove(n)\n",
        "      else:\n",
        "        nums_set.add(n)\n",
        "    return nums_set\n",
        "\n",
        "\n",
        "nums = [2,2,1,1,3]\n",
        "\n",
        "mySolution = Solution()\n",
        "mySolution.singleNumber(nums)"
      ],
      "metadata": {
        "id": "oog5fWmJY1d-",
        "colab": {
          "base_uri": "https://localhost:8080/"
        },
        "outputId": "76e9fb17-938e-488f-f86f-2ec4547e6931"
      },
      "execution_count": null,
      "outputs": [
        {
          "output_type": "execute_result",
          "data": {
            "text/plain": [
              "{3}"
            ]
          },
          "metadata": {},
          "execution_count": 42
        }
      ]
    },
    {
      "cell_type": "code",
      "source": [
        "#33. Single Number - 1 pass, uses XOR\n",
        "#136. Single Number\n",
        "\n",
        "class Solution:\n",
        "  def singleNumber(self, nums):\n",
        "    res = int()\n",
        "    for n in nums:\n",
        "      print(n,res)\n",
        "      res = res ^ n\n",
        "      print(n,res)\n",
        "      print('_'*10)\n",
        "    return res\n",
        "nums = [2,2,1,3,3,5,6,7,8,5,6,7,8]\n",
        "\n",
        "mySolution = Solution()\n",
        "mySolution.singleNumber(nums)"
      ],
      "metadata": {
        "id": "h5ubFMopY6fT",
        "colab": {
          "base_uri": "https://localhost:8080/"
        },
        "outputId": "13bd94eb-3b9e-4631-ae31-2c1566693d84"
      },
      "execution_count": null,
      "outputs": [
        {
          "output_type": "stream",
          "name": "stdout",
          "text": [
            "2 0\n",
            "2 2\n",
            "__________\n",
            "2 2\n",
            "2 0\n",
            "__________\n",
            "1 0\n",
            "1 1\n",
            "__________\n",
            "3 1\n",
            "3 2\n",
            "__________\n",
            "3 2\n",
            "3 1\n",
            "__________\n",
            "5 1\n",
            "5 4\n",
            "__________\n",
            "6 4\n",
            "6 2\n",
            "__________\n",
            "7 2\n",
            "7 5\n",
            "__________\n",
            "8 5\n",
            "8 13\n",
            "__________\n",
            "5 13\n",
            "5 8\n",
            "__________\n",
            "6 8\n",
            "6 14\n",
            "__________\n",
            "7 14\n",
            "7 9\n",
            "__________\n",
            "8 9\n",
            "8 1\n",
            "__________\n"
          ]
        },
        {
          "output_type": "execute_result",
          "data": {
            "text/plain": [
              "1"
            ]
          },
          "metadata": {},
          "execution_count": 47
        }
      ]
    },
    {
      "cell_type": "code",
      "source": [
        "#34 & 35 skipped"
      ],
      "metadata": {
        "id": "WImEA7GpZSEa"
      },
      "execution_count": null,
      "outputs": []
    },
    {
      "cell_type": "code",
      "source": [
        "#36. Integer to Roman\n",
        "#12. Integer to Roman\n",
        "\n",
        "class Solution:\n",
        "    def intToRoman(self,num):\n",
        "      intRomList = [['I',1], ['IV',4], ['V',5], ['IX',9] , ['X',10], ['XL',40], ['L',50], ['XC',90], ['C',100], ['CD',400], ['D',500], ['CM',900],['M',1000]]\n",
        "\n",
        "      res = ''\n",
        "\n",
        "      for sym, val in reversed(intRomList):\n",
        "        if num//val:\n",
        "          count = num//val\n",
        "          res += count*sym\n",
        "        num %= val\n",
        "\n",
        "      return res\n",
        "\n",
        "num = 5678\n",
        "\n",
        "mySolution = Solution()\n",
        "mySolution.intToRoman(num)"
      ],
      "metadata": {
        "colab": {
          "base_uri": "https://localhost:8080/",
          "height": 157
        },
        "id": "MoTjHGvBZTyk",
        "outputId": "9c17cfef-30d2-49f5-db1d-def8d4749650"
      },
      "execution_count": null,
      "outputs": [
        {
          "output_type": "stream",
          "name": "stdout",
          "text": [
            "MMMMM\n",
            "D\n",
            "C\n",
            "L\n",
            "XX\n",
            "V\n",
            "III\n"
          ]
        },
        {
          "output_type": "execute_result",
          "data": {
            "text/plain": [
              "'MMMMMDCLXXVIII'"
            ],
            "application/vnd.google.colaboratory.intrinsic+json": {
              "type": "string"
            }
          },
          "metadata": {},
          "execution_count": 8
        }
      ]
    },
    {
      "cell_type": "code",
      "source": [
        "#37. Roman to Integer\n",
        "#11. Roman to Integer\n",
        "\n",
        "class Solution:\n",
        "    def romanToInt(self,s):\n",
        "      romIntDict = {'I':1, 'V':5, 'X':10, 'L':50, 'C':100, 'D':500, 'M':1000}\n",
        "      n = len(s)\n",
        "      res = 0\n",
        "\n",
        "      for i in range(n):\n",
        "        if i+1 < n and romIntDict[s[i]] < romIntDict[s[i+1]]:\n",
        "          res -= romIntDict[s[i]]\n",
        "        else:\n",
        "          res += romIntDict[s[i]]\n",
        "      \n",
        "      return res\n",
        "\n",
        "s = 'CDXVII'\n",
        "\n",
        "mySolution = Solution()\n",
        "mySolution.romanToInt(s)"
      ],
      "metadata": {
        "colab": {
          "base_uri": "https://localhost:8080/"
        },
        "id": "Mh49rPFGERow",
        "outputId": "eb5367cf-4ac6-4d6d-81cd-cf67219aaf07"
      },
      "execution_count": null,
      "outputs": [
        {
          "output_type": "execute_result",
          "data": {
            "text/plain": [
              "417"
            ]
          },
          "metadata": {},
          "execution_count": 7
        }
      ]
    },
    {
      "cell_type": "code",
      "source": [
        "#38. Clone graph - DFS (code ran on LeetCode. Won't run here since a graph is unavailable to make the function call)\n",
        "#133. Clone Graph\n",
        "\n",
        "class Node:\n",
        "    def __init__(self, val = 0, neighbors = None):\n",
        "        self.val = val\n",
        "        self.neighbors = neighbors if neighbors is not None else []\n",
        "class Solution:\n",
        "    \n",
        "    def cloneGraph(self, node):\n",
        "      if not node: return None\n",
        "      oldToNew = {}\n",
        "\n",
        "      def dfs(node):\n",
        "        if node in oldToNew:\n",
        "          return oldToNew[node]\n",
        "\n",
        "        copy = Node(val=node.val)\n",
        "        oldToNew[node] = copy\n",
        "\n",
        "        for nei in node.neighbors:\n",
        "          copy.neighbors.append(dfs(nei))\n",
        "\n",
        "        return copy\n",
        "\n",
        "      return dfs(node)\n",
        "      \n",
        "\n",
        "adjList = [[2,4],[1,3],[2,4],[1,3]]\n",
        "\n",
        "mySolution = Solution()\n",
        "mySolution.cloneGraph(node)"
      ],
      "metadata": {
        "colab": {
          "base_uri": "https://localhost:8080/",
          "height": 201
        },
        "id": "ly2wNt5orerm",
        "outputId": "f61edb99-c3a7-462c-c6b4-9bf05d67cee7"
      },
      "execution_count": null,
      "outputs": [
        {
          "output_type": "error",
          "ename": "NameError",
          "evalue": "ignored",
          "traceback": [
            "\u001b[0;31m---------------------------------------------------------------------------\u001b[0m",
            "\u001b[0;31mNameError\u001b[0m                                 Traceback (most recent call last)",
            "\u001b[0;32m<ipython-input-48-b866a9bcca7a>\u001b[0m in \u001b[0;36m<module>\u001b[0;34m()\u001b[0m\n\u001b[1;32m     30\u001b[0m \u001b[0;34m\u001b[0m\u001b[0m\n\u001b[1;32m     31\u001b[0m \u001b[0mmySolution\u001b[0m \u001b[0;34m=\u001b[0m \u001b[0mSolution\u001b[0m\u001b[0;34m(\u001b[0m\u001b[0;34m)\u001b[0m\u001b[0;34m\u001b[0m\u001b[0;34m\u001b[0m\u001b[0m\n\u001b[0;32m---> 32\u001b[0;31m \u001b[0mmySolution\u001b[0m\u001b[0;34m.\u001b[0m\u001b[0mcloneGraph\u001b[0m\u001b[0;34m(\u001b[0m\u001b[0mnode\u001b[0m\u001b[0;34m)\u001b[0m\u001b[0;34m\u001b[0m\u001b[0;34m\u001b[0m\u001b[0m\n\u001b[0m",
            "\u001b[0;31mNameError\u001b[0m: name 'node' is not defined"
          ]
        }
      ]
    },
    {
      "cell_type": "code",
      "source": [
        "#39. Min Stack - amatuerish code, see next cell for more elegant code\n",
        "#155. Min Stack\n",
        "\n",
        "class MinStack:\n",
        "\n",
        "    def __init__(self):\n",
        "      self.mainStack = []\n",
        "      self.minStack = []\n",
        "        \n",
        "\n",
        "    def push(self, val):\n",
        "      if len(self.minStack) == 0:\n",
        "        self.minStack.append(val)\n",
        "      elif val < self.minStack[-1]:\n",
        "        self.minStack.append(val)\n",
        "      else:\n",
        "        self.minStack.append(self.minStack[-1])\n",
        "      \n",
        "      self.mainStack.append(val)\n",
        "      \n",
        "\n",
        "    def pop(self):\n",
        "      if len(self.mainStack) == 0:\n",
        "        return None\n",
        "      else:\n",
        "        self.minStack.pop()\n",
        "        return self.mainStack.pop()\n",
        "        \n",
        "\n",
        "    def top(self):\n",
        "      if len(self.mainStack) == 0:\n",
        "        return None\n",
        "      else:\n",
        "        return self.mainStack[-1]\n",
        "        \n",
        "\n",
        "    def getMin(self):\n",
        "      if len(self.minStack) == 0:\n",
        "        return None\n",
        "      else:\n",
        "        return self.minStack[-1]\n",
        "\n",
        "\n",
        "obj = MinStack()\n",
        "val = -2\n",
        "obj.push(val)\n",
        "val = 0\n",
        "obj.push(val)\n",
        "val = -3\n",
        "obj.push(val)\n",
        "val = 4\n",
        "obj.push(val)\n",
        "obj.pop()\n",
        "obj.pop()\n",
        "\n",
        "obj.top()\n",
        "#param_3 = obj.top()\n",
        "#param_4 = obj.getMin()\n",
        "obj.getMin()"
      ],
      "metadata": {
        "id": "a23MHvcUsiUH",
        "colab": {
          "base_uri": "https://localhost:8080/"
        },
        "outputId": "7581ffd1-e6ff-413e-c4d9-ffb1efc5b94b"
      },
      "execution_count": null,
      "outputs": [
        {
          "output_type": "execute_result",
          "data": {
            "text/plain": [
              "-2"
            ]
          },
          "metadata": {},
          "execution_count": 30
        }
      ]
    },
    {
      "cell_type": "code",
      "source": [
        "#39. Min Stack\n",
        "#155. Min Stack\n",
        "\n",
        "class MinStack:\n",
        "\n",
        "    def __init__(self):\n",
        "      self.mainStack = []\n",
        "      self.minStack = []\n",
        "        \n",
        "\n",
        "    def push(self, val):\n",
        "      self.mainStack.append(val)\n",
        "      minStack = self.minStack\n",
        "      minStack.append(val if not minStack else min(val, minStack[-1]))\n",
        "      \n",
        "\n",
        "    def pop(self):\n",
        "      self.minStack.pop()\n",
        "      self.mainStack.pop()\n",
        "        \n",
        "\n",
        "    def top(self):\n",
        "      return self.mainStack[-1]\n",
        "        \n",
        "\n",
        "    def getMin(self):\n",
        "      return self.minStack[-1]\n",
        "\n",
        "\n",
        "obj = MinStack()\n",
        "val = -2\n",
        "obj.push(val)\n",
        "val = 0\n",
        "obj.push(val)\n",
        "val = -3\n",
        "obj.push(val)\n",
        "val = 4\n",
        "obj.push(val)\n",
        "obj.pop()\n",
        "obj.pop()\n",
        "\n",
        "obj.top()\n",
        "#param_3 = obj.top()\n",
        "#param_4 = obj.getMin()\n",
        "obj.getMin()"
      ],
      "metadata": {
        "colab": {
          "base_uri": "https://localhost:8080/"
        },
        "id": "mhSLS0lyP9oR",
        "outputId": "b4e66930-73ba-4d41-f5b5-f581cd1a8224"
      },
      "execution_count": null,
      "outputs": [
        {
          "output_type": "execute_result",
          "data": {
            "text/plain": [
              "-2"
            ]
          },
          "metadata": {},
          "execution_count": 49
        }
      ]
    },
    {
      "cell_type": "code",
      "source": [
        "#40. Evaluate Reverse Polish Notation\n",
        "#150. Evaluate Reverse Polish Notation\n",
        "\n",
        "class Solution:\n",
        "    def evalRPN(self, tokens):\n",
        "      tok_list = []\n",
        "      operands_list = ['+','-','*','/']\n",
        "      for item in tokens:\n",
        "        if item not in operands_list:\n",
        "          tok_list.append(item)\n",
        "        else:\n",
        "          y = (tok_list.pop())\n",
        "          x = (tok_list.pop())\n",
        "          tok_list.append(int(eval(str(x)+str(item)+str(y))))\n",
        "      return tok_list[0]\n",
        "\n",
        "\n",
        "#tokens = [\"2\",\"1\",\"+\",\"8\",\"*\"]\n",
        "tokens = [\"4\",\"13\",\"5\",\"/\",\"+\"]\n",
        "\n",
        "mySolution = Solution()\n",
        "mySolution.evalRPN(tokens)"
      ],
      "metadata": {
        "colab": {
          "base_uri": "https://localhost:8080/"
        },
        "id": "D5YO9JYHYXLg",
        "outputId": "d3acae0c-9d29-47ec-ebfc-c067ed9e95e3"
      },
      "execution_count": null,
      "outputs": [
        {
          "output_type": "execute_result",
          "data": {
            "text/plain": [
              "6"
            ]
          },
          "metadata": {},
          "execution_count": 60
        }
      ]
    },
    {
      "cell_type": "code",
      "source": [
        "#41. Valid Parentheses\n",
        "#20. Valid Parentheses\n",
        "\n",
        "class Solution:\n",
        "    def isValid(self, s):\n",
        "      sym_dict = {'(': ')', '{': '}', '[': ']'}\n",
        "      temp = []\n",
        "      for sym in s:\n",
        "        if sym in sym_dict:\n",
        "          temp.append(sym_dict[sym])\n",
        "        else:\n",
        "          if len(temp) == 0 or sym != temp.pop():\n",
        "            return False\n",
        "      return True if len(temp) == 0 else False #check length to prevent single entry lists from bypassing the else condition check\n",
        "\n",
        "\n",
        "#s = \"()[]{\"\n",
        "#s = \"()\"\n",
        "s = \"[\"\n",
        "mySolution = Solution()\n",
        "mySolution.isValid(s)"
      ],
      "metadata": {
        "colab": {
          "base_uri": "https://localhost:8080/"
        },
        "id": "o1BPuM1cirTQ",
        "outputId": "596afc8a-f46d-449d-dbc7-79a340ffeaab"
      },
      "execution_count": null,
      "outputs": [
        {
          "output_type": "execute_result",
          "data": {
            "text/plain": [
              "False"
            ]
          },
          "metadata": {},
          "execution_count": 17
        }
      ]
    },
    {
      "cell_type": "code",
      "source": [
        "#42. Climbing Stairs - bottom up approach of # of options from the lowest leaves in a tree & aggregate upwards\n",
        "#70. Climbing Stairs\n",
        "class Solution:\n",
        "    def climbStairs(self, n):\n",
        "      if 1 <= n <=2 : return n\n",
        "      else:\n",
        "        stairs = [1,2]\n",
        "        while len(stairs) < n:\n",
        "          print(stairs)\n",
        "          stairs.append(sum(stairs[-2:]))\n",
        "        return stairs[n-1], stairs\n",
        "\n",
        "n = 5\n",
        "mySolution = Solution()\n",
        "mySolution.climbStairs(n)"
      ],
      "metadata": {
        "colab": {
          "base_uri": "https://localhost:8080/"
        },
        "id": "x3_JCy5e-4OI",
        "outputId": "84d9afab-5798-49ee-d7de-e01ca906f71b"
      },
      "execution_count": null,
      "outputs": [
        {
          "output_type": "stream",
          "name": "stdout",
          "text": [
            "[1, 2]\n",
            "[1, 2, 3]\n",
            "[1, 2, 3, 5]\n"
          ]
        },
        {
          "output_type": "execute_result",
          "data": {
            "text/plain": [
              "(8, [1, 2, 3, 5, 8])"
            ]
          },
          "metadata": {},
          "execution_count": 56
        }
      ]
    },
    {
      "cell_type": "code",
      "source": [
        "#42. Climbing Stairs - Dynamic programming approach\n",
        "#70. Climbing Stairs\n",
        "class Solution:\n",
        "    def climbStairs(self, n):\n",
        "      one, two = 1,1\n",
        "      i = 0\n",
        "      for i in range(n-1):\n",
        "        temp = one\n",
        "        one += two\n",
        "        two = temp\n",
        "      return one\n",
        "\n",
        "n = 5\n",
        "mySolution = Solution()\n",
        "mySolution.climbStairs(n)"
      ],
      "metadata": {
        "colab": {
          "base_uri": "https://localhost:8080/"
        },
        "id": "LhRJsSC_X6WF",
        "outputId": "89567cbc-134a-4017-8beb-b9faef7f0420"
      },
      "execution_count": null,
      "outputs": [
        {
          "output_type": "execute_result",
          "data": {
            "text/plain": [
              "8"
            ]
          },
          "metadata": {},
          "execution_count": 55
        }
      ]
    },
    {
      "cell_type": "code",
      "source": [
        "#45. Maximum Sum Subarray\n",
        "#53. Maximum Subarray\n",
        "\n",
        "class Solution:\n",
        "    def maxSubArray(self, nums):\n",
        "      for i in range(1,len(nums)):\n",
        "        #print('nums[i-1]:', nums[i-1])\n",
        "        if nums[i-1] > 0:\n",
        "          #print('y')\n",
        "          nums[i] += nums[i-1]\n",
        "          #print('nums[i]:', nums[i])\n",
        "      return max(nums), nums\n",
        "\n",
        "nums = [-2,1,-3,4,-1,2,1,-5,4]\n",
        "mySolution = Solution()\n",
        "mySolution.maxSubArray(nums)"
      ],
      "metadata": {
        "colab": {
          "base_uri": "https://localhost:8080/"
        },
        "id": "oHqFvTPixM5N",
        "outputId": "011d48ac-58ad-43ae-cbf0-307e26e8e0a9"
      },
      "execution_count": null,
      "outputs": [
        {
          "output_type": "execute_result",
          "data": {
            "text/plain": [
              "(6, [-2, 1, -2, 4, 3, 5, 6, 1, 5])"
            ]
          },
          "metadata": {},
          "execution_count": 9
        }
      ]
    },
    {
      "cell_type": "code",
      "source": [
        "#45. Maximum Sum Subarray - dynamic programming approach\n",
        "#53. Maximum Subarray\n",
        "\n",
        "class Solution:\n",
        "    def maxSubArray(self, nums):\n",
        "      maxSoFar = nums[0]\n",
        "      maxHere = nums[0]\n",
        "      for i in range(1,len(nums)):\n",
        "        maxHere = max(maxHere+nums[i], nums[i])\n",
        "        maxSoFar = max(maxSoFar, maxHere)\n",
        "      return maxSoFar\n",
        "        \n",
        "\n",
        "nums = [-2,1,-3,4,-1,2,1,-5,4]\n",
        "mySolution = Solution()\n",
        "mySolution.maxSubArray(nums)"
      ],
      "metadata": {
        "colab": {
          "base_uri": "https://localhost:8080/"
        },
        "id": "l4EPlRcNbpZM",
        "outputId": "e7eec018-bd6e-4df9-beaa-9047dbb4b776"
      },
      "execution_count": null,
      "outputs": [
        {
          "output_type": "execute_result",
          "data": {
            "text/plain": [
              "6"
            ]
          },
          "metadata": {},
          "execution_count": 57
        }
      ]
    },
    {
      "cell_type": "code",
      "source": [
        "#46 Maximum Product Subarray - dynamic programming approach\n",
        "#152 Maximum Product Subarray\n",
        "class Solution:\n",
        "    def maxProduct(self, nums):\n",
        "      mx = nums[0]\n",
        "      maxAns = nums[0]\n",
        "      mn = nums[0]\n",
        "      for i in range(1,len(nums)):\n",
        "        #print(mx, mn)\n",
        "        tmpMx = mx\n",
        "        tmpMn = mn\n",
        "        mx = max(max(nums[i]*tmpMx, nums[i]), nums[i]*tmpMn)\n",
        "        mn = min(min(nums[i]*tmpMx, nums[i]), nums[i]*tmpMn)\n",
        "        maxAns = max(mx, maxAns)\n",
        "      return maxAns\n",
        "\n",
        "#nums = [2,3,-2,-4]\n",
        "#nums = [-2,3,-4]\n",
        "nums = [-1,-2,-9,-6]\n",
        "mySolution = Solution()\n",
        "mySolution.maxProduct(nums)"
      ],
      "metadata": {
        "colab": {
          "base_uri": "https://localhost:8080/"
        },
        "id": "GfNYfRBqzWS-",
        "outputId": "dbc66816-8962-4efe-e522-c130a14e34ed"
      },
      "execution_count": null,
      "outputs": [
        {
          "output_type": "stream",
          "name": "stdout",
          "text": [
            "-1 -1\n",
            "2 -2\n",
            "18 -18\n"
          ]
        },
        {
          "output_type": "execute_result",
          "data": {
            "text/plain": [
              "108"
            ]
          },
          "metadata": {},
          "execution_count": 43
        }
      ]
    },
    {
      "cell_type": "code",
      "source": [
        "#48. Search Insert Position\n",
        "#35. Search Insert Position\n",
        "class Solution:\n",
        "    def searchInsert(self, nums, target):\n",
        "        l,r = 0, len(nums)-1\n",
        "        while l < r:\n",
        "            m = (l+r) // 2\n",
        "            print(l,r,m)\n",
        "            if nums[m] < target:\n",
        "                l = m + 1\n",
        "            else:\n",
        "                r = m\n",
        "        return l+1 if nums[l] < target else l\n",
        "        \n",
        "        \n",
        "\n",
        "nums = [2,3,4,5,6]\n",
        "target = 1\n",
        "mySolution = Solution()\n",
        "mySolution.searchInsert(nums, target)"
      ],
      "metadata": {
        "colab": {
          "base_uri": "https://localhost:8080/"
        },
        "id": "X-I-jZxgQch7",
        "outputId": "2ca93682-adc8-4225-c3f4-291f7dec4aef"
      },
      "execution_count": null,
      "outputs": [
        {
          "output_type": "stream",
          "name": "stdout",
          "text": [
            "0 4 2\n",
            "0 2 1\n",
            "0 1 0\n"
          ]
        },
        {
          "output_type": "execute_result",
          "data": {
            "text/plain": [
              "0"
            ]
          },
          "metadata": {},
          "execution_count": 47
        }
      ]
    },
    {
      "cell_type": "code",
      "source": [
        "#49. Find Minimum in Sorted Rotated Array\n",
        "#49. Find Minimum in Sorted Rotated Array\n",
        "class Solution:\n",
        "    def findMin(self, nums):\n",
        "      l = 0\n",
        "      r = len(nums)-1\n",
        "      while l < r and nums[l] >= nums[r]:\n",
        "        m = (l+r)//2\n",
        "        if nums[m] > nums[r]:\n",
        "          l = m + 1\n",
        "        else:\n",
        "          r = m\n",
        "      return nums[l]\n",
        "\n",
        "nums = [4,5,6,2,3]\n",
        "mySolution = Solution()\n",
        "mySolution.findMin(nums)"
      ],
      "metadata": {
        "colab": {
          "base_uri": "https://localhost:8080/"
        },
        "id": "UzK8jonlTYLe",
        "outputId": "c4fbb8f6-8f43-49e5-86be-2c7f010757a0"
      },
      "execution_count": null,
      "outputs": [
        {
          "output_type": "execute_result",
          "data": {
            "text/plain": [
              "2"
            ]
          },
          "metadata": {},
          "execution_count": 58
        }
      ]
    },
    {
      "cell_type": "code",
      "source": [
        "#50 Find Minimum in Rotated Sorted Array II – with duplicates\n",
        "#154 Find Minimum in Rotated Sorted Array II – with duplicates\n",
        "class Solution:\n",
        "    def findMin(self, nums):\n",
        "      l = 0\n",
        "      r = len(nums)-1\n",
        "      while l < r and nums[l] >= nums[r]:\n",
        "        m = (l+r)//2\n",
        "        if nums[m] > nums[r]:\n",
        "          l = m+1\n",
        "        elif nums[m] < nums[r]:\n",
        "          r = m\n",
        "        else:\n",
        "          l += 1\n",
        "      return nums[l]\n",
        "\n",
        "nums = [3,1,3]\n",
        "mySolution = Solution()\n",
        "mySolution.findMin(nums)"
      ],
      "metadata": {
        "colab": {
          "base_uri": "https://localhost:8080/"
        },
        "id": "ANQvYfwyol-F",
        "outputId": "3e78d3e7-785a-4f12-8f92-d171dccc9e6e"
      },
      "execution_count": null,
      "outputs": [
        {
          "output_type": "execute_result",
          "data": {
            "text/plain": [
              "1"
            ]
          },
          "metadata": {},
          "execution_count": 66
        }
      ]
    },
    {
      "cell_type": "code",
      "source": [
        ""
      ],
      "metadata": {
        "id": "HzYvK3k1wzmr"
      },
      "execution_count": null,
      "outputs": []
    }
  ]
}