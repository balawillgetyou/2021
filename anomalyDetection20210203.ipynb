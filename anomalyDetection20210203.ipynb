{
  "nbformat": 4,
  "nbformat_minor": 0,
  "metadata": {
    "colab": {
      "name": "anomalyDetection20210203.ipynb",
      "provenance": [],
      "collapsed_sections": [],
      "authorship_tag": "ABX9TyMZUQKEjXJQCb3uuuvN/vuQ",
      "include_colab_link": true
    },
    "kernelspec": {
      "name": "python3",
      "display_name": "Python 3"
    }
  },
  "cells": [
    {
      "cell_type": "markdown",
      "metadata": {
        "id": "view-in-github",
        "colab_type": "text"
      },
      "source": [
        "<a href=\"https://colab.research.google.com/github/balawillgetyou/2021/blob/main/anomalyDetection20210203.ipynb\" target=\"_parent\"><img src=\"https://colab.research.google.com/assets/colab-badge.svg\" alt=\"Open In Colab\"/></a>"
      ]
    },
    {
      "cell_type": "code",
      "metadata": {
        "id": "dphqCmGndeYS"
      },
      "source": [
        "import numpy as np\n",
        "import pandas as pd\n",
        "from tensorflow import keras\n",
        "from tensorflow.keras import layers\n",
        "from matplotlib import pyplot as plt\n",
        "import seaborn as sns\n",
        "\n",
        "from sklearn.preprocessing import RobustScaler, StandardScaler\n",
        "from sklearn.model_selection import train_test_split\n",
        "from sklearn.metrics import precision_recall_fscore_support as score\n",
        "\n",
        "import datetime"
      ],
      "execution_count": null,
      "outputs": []
    },
    {
      "cell_type": "code",
      "metadata": {
        "id": "u_0uKve-dlKZ"
      },
      "source": [
        "# Generated training sequences for use in the model.\n",
        "TIME_STEPS = 6*8#must be a multiple of 8\n",
        "Kernel_Size = 6#must also be a factor of TIME_STEPS\n",
        "Strides = 2\n",
        "rollingOffset = 24\n",
        "\n",
        "def create_sequences(values, time_steps=TIME_STEPS):\n",
        "    output = []\n",
        "    for i in range(len(values) - time_steps):\n",
        "        output.append(values[i : (i + time_steps)])\n",
        "    return np.stack(output)\n",
        "\n",
        "def reverse_sequences(values, time_steps=TIME_STEPS):\n",
        "    output = []\n",
        "    for i in range(len(values)-1):\n",
        "        output.append(values[i][0])\n",
        "    return np.stack(output)\n",
        "\n",
        "def std_scaler(trainData):\n",
        "    ss = StandardScaler()\n",
        "    df_training_value = ss.fit_transform(trainData)\n",
        "    return df_training_value, ss\n",
        "\n",
        "\n",
        "\n",
        "\n",
        "def tcnn_model(df_training_value,numVariables):#kernel_size reset to 6 to cover just one full day \n",
        "    #converting training data to sequences\n",
        "    x_train = create_sequences(df_training_value)\n",
        "    #model definition\n",
        "    model = keras.Sequential(\n",
        "        [\n",
        "            layers.Input(shape=(x_train.shape[1], x_train.shape[2])),\n",
        "            layers.Conv1D(\n",
        "                filters=64, kernel_size=Kernel_Size, padding=\"same\", strides=Strides, activation=\"relu\"\n",
        "            ),\n",
        "            layers.Dropout(rate=0.2),\n",
        "            layers.Conv1D(\n",
        "                filters=32, kernel_size=Kernel_Size, padding=\"same\", strides=Strides, activation=\"relu\"\n",
        "            ),\n",
        "            layers.Dropout(rate=0.2),\n",
        "            layers.Conv1D(\n",
        "                filters=16, kernel_size=Kernel_Size, padding=\"same\", strides=Strides, activation=\"relu\"\n",
        "            ),\n",
        "            layers.Conv1DTranspose(\n",
        "                filters=16, kernel_size=Kernel_Size, padding=\"same\", strides=Strides, activation=\"relu\"\n",
        "            ),\n",
        "            layers.Dropout(rate=0.2),\n",
        "            layers.Conv1DTranspose(\n",
        "                filters=32, kernel_size=Kernel_Size, padding=\"same\", strides=Strides, activation=\"relu\"\n",
        "            ),\n",
        "            layers.Dropout(rate=0.2),\n",
        "            layers.Conv1DTranspose(\n",
        "                filters=64, kernel_size=Kernel_Size, padding=\"same\", strides=Strides, activation=\"relu\"\n",
        "            ),\n",
        "            layers.Conv1DTranspose(filters=numVariables, kernel_size=Kernel_Size, padding=\"same\"),\n",
        "            ]\n",
        "        )\n",
        "    model.compile(optimizer=keras.optimizers.Adam(learning_rate=0.001), loss=\"mse\")\n",
        "\n",
        "    #model training\n",
        "    history = model.fit(\n",
        "        x_train,\n",
        "        x_train,\n",
        "        epochs=50,\n",
        "        batch_size=128,\n",
        "        validation_split=0.1,\n",
        "        callbacks=[\n",
        "            keras.callbacks.EarlyStopping(monitor=\"val_loss\", patience=5, mode=\"min\", verbose=0)\n",
        "        ],\n",
        "    )\n",
        "    return model\n",
        "\n",
        "def inverseTransform(objForTrfm, typTrfm, **kwargs):\n",
        "    rs = kwargs.get('rs', None)\n",
        "    ss = kwargs.get('ss', None)\n",
        "    \n",
        "    if typTrfm == 'RobustScaler':\n",
        "        objTrfm = rs.inverse_transform(objForTrfm)\n",
        "    if typTrfm == 'StandardScaler':\n",
        "        objTrfm = ss.inverse_transform(objForTrfm)\n",
        "    return objTrfm\n",
        "\n",
        "\n",
        "def reconstructTimeSeries(df_training_value, model, trainData, df_testing_value, testData, typTrfm, colNames, **kwargs):\n",
        "    #this flattens data from sequences format to simple time series\n",
        "    rs = kwargs.get('rs', None)\n",
        "    ss = kwargs.get('ss', None)\n",
        "    \n",
        "    x_train = create_sequences(df_training_value)\n",
        "    x_train_pred = model.predict(x_train)\n",
        "    x_train_pred_flat = pd.DataFrame(reverse_sequences((x_train_pred)))\n",
        "\n",
        "    trainData_trimmed = trainData[0:len(x_train_pred_flat)]\n",
        "\n",
        "    if typTrfm == 'RobustScaler':\n",
        "        trainData_pred = inverseTransform(x_train_pred_flat, 'RobustScaler', rs = rs)\n",
        "    if typTrfm == 'StandardScaler':\n",
        "        trainData_pred = inverseTransform(x_train_pred_flat, 'StandardScaler', ss = ss)\n",
        "    \n",
        "    trainData_pred = pd.DataFrame(trainData_pred)\n",
        "    trainData_pred.columns = colNames\n",
        "    trainData_pred.set_index(trainData_trimmed.index, inplace=True)\n",
        "    \n",
        "    x_test = create_sequences(df_testing_value)\n",
        "    x_test_pred = model.predict(x_test)\n",
        "    x_test_pred_flat = pd.DataFrame(reverse_sequences((x_test_pred)))\n",
        "\n",
        "    testData_trimmed = testData[0:len(x_test_pred_flat)]\n",
        "\n",
        "    if typTrfm == 'RobustScaler':\n",
        "        testData_pred = inverseTransform(x_test_pred_flat, 'RobustScaler', rs = rs)\n",
        "    if typTrfm == 'StandardScaler':\n",
        "        testData_pred = inverseTransform(x_test_pred_flat, 'StandardScaler', ss = ss)\n",
        "\n",
        "    testData_pred = pd.DataFrame(testData_pred)\n",
        "    testData_pred.columns = colNames\n",
        "    testData_pred.set_index(testData_trimmed.index, inplace=True)\n",
        "    return trainData_trimmed, trainData_pred, testData_trimmed, testData_pred\n",
        "\n",
        "def plot_reconstructed_timeseries(trainData_trimmed, trainData_pred, testData_trimmed, testData_pred, typTrfm, colNames):\n",
        "    #only to see reconstruction, not anomalies\n",
        "    for i, col in enumerate(colNames):\n",
        "        fig, ax = plt.subplots(figsize=(15,3))\n",
        "        trainData_trimmed[col].plot(label='Train_Actual', ax=ax)\n",
        "        trainData_pred[col].plot(label='Train_Predicted', ax=ax)\n",
        "        testData_trimmed[col].plot(label='Test_Actual', ax=ax)\n",
        "        testData_pred[col].plot(label='Test_Predicted', ax=ax)\n",
        "        #ylim_list=[(-1,5),(-0.5,2.5),(0,1),(-1,5),(-0.5,15)]#changed\n",
        "        #ax.set_ylim(ylim_list[i])#changed\n",
        "        plt.legend()\n",
        "        plt.title('{} / {} / Multivariate'.format(typTrfm, col))\n",
        "        plt.show()\n",
        "        \n",
        "def anomalyFlaggingAttribution(trainData_trimmed, trainData_pred, testData_trimmed, testData_pred, colNames, rollingOffset, **kwargs):\n",
        "    #note the use of scaled features so that anomaly contribution by feature is not skewed towards features with larger values\n",
        "    rs = kwargs.get('rs', None)\n",
        "    ss = kwargs.get('ss', None)\n",
        "    \n",
        "    if rs:\n",
        "        trainData_trimmed_scaled = rs.transform(trainData_trimmed)\n",
        "        trainData_pred_scaled = rs.transform(trainData_pred)\n",
        "        testData_trimmed_scaled = rs.transform(testData_trimmed)\n",
        "        testData_pred_scaled = rs.transform(testData_pred)\n",
        "    if ss:\n",
        "        trainData_trimmed_scaled = ss.transform(trainData_trimmed)\n",
        "        trainData_pred_scaled = ss.transform(trainData_pred)\n",
        "        testData_trimmed_scaled = ss.transform(testData_trimmed)\n",
        "        testData_pred_scaled = ss.transform(testData_pred)\n",
        "    \n",
        "    #calculating training reconstruction error and identifying anomaly threshold\n",
        "    train_mae_loss = np.abs(trainData_pred_scaled - trainData_trimmed_scaled)\n",
        "    train_mae_loss = pd.DataFrame(train_mae_loss)\n",
        "    train_mae_loss.columns = colNames\n",
        "    train_mae_loss = train_mae_loss.add_suffix('_mae_loss')\n",
        "    train_mae_loss_sum = np.sum(train_mae_loss,axis=1)\n",
        "    train_mae_loss = pd.concat([pd.DataFrame(train_mae_loss), (pd.DataFrame(train_mae_loss_sum,columns=['Sum_mae_loss']))], axis='columns')\n",
        "    #threshold = np.median(train_mae_loss, axis=0)\n",
        "    threshold = np.quantile(train_mae_loss, 0.99, axis=0)\n",
        "    #threshold = np.max(train_mae_loss) #max is the right choice but is not picking many anomalies in this dataset\n",
        "    #print(\"Reconstruction error threshold: \", threshold)\n",
        "    \n",
        "    #calculating test losses on a rolling window\n",
        "    test_mae_loss = np.abs(testData_pred_scaled - testData_trimmed_scaled)\n",
        "    test_mae_loss = pd.DataFrame(test_mae_loss)\n",
        "    test_mae_loss.columns = colNames\n",
        "    test_mae_loss = test_mae_loss.add_suffix('_mae_loss')\n",
        "    test_mae_loss_sum = np.sum(test_mae_loss,axis=1)\n",
        "    test_mae_loss = pd.concat([pd.DataFrame(test_mae_loss), (pd.DataFrame(test_mae_loss_sum,columns=['Sum_mae_loss']))], axis='columns')\n",
        "\n",
        "    test_mae_loss.set_index(testData_trimmed.index, inplace=True)\n",
        "    test_mae_loss_rolling = test_mae_loss.rolling(rollingOffset).mean()\n",
        "    \n",
        "    # # Detect all the samples which are anomalies + which feature has the highest loss\n",
        "    anomaly_data = pd.DataFrame(test_mae_loss_rolling > threshold)\n",
        "    anomaly_data['top_contrib'] = test_mae_loss_rolling[test_mae_loss_rolling.columns[:-1]].idxmax(axis=1)\n",
        "    anomaly_data.set_index(testData_trimmed.index, inplace=True)\n",
        "    return test_mae_loss, test_mae_loss_rolling, anomaly_data\n",
        "\n",
        "def plot_anomaly(trainData_trimmed, trainData_pred, testData_trimmed, testData_pred, colNames, rollingOffset, **kwargs):\n",
        "    #shows any anomaly markers on test data\n",
        "    rs = kwargs.get('rs', None)\n",
        "    ss = kwargs.get('ss', None)\n",
        "    \n",
        "    if rs:\n",
        "        test_mae_loss, test_mae_loss_rolling, anomaly_data = anomalyFlaggingAttribution(trainData_trimmed, trainData_pred, testData_trimmed, testData_pred, colNames, rollingOffset, rs = rs)\n",
        "    if ss:\n",
        "        test_mae_loss, test_mae_loss_rolling, anomaly_data = anomalyFlaggingAttribution(trainData_trimmed, trainData_pred, testData_trimmed, testData_pred, colNames, rollingOffset, ss = ss)\n",
        "    \n",
        "    for i, col in enumerate(colNames):\n",
        "        anomaly_data_indices = []\n",
        "        for data_idx in range(len(testData_trimmed)):\n",
        "            if np.all(anomaly_data[anomaly_data.columns[i]][data_idx]):\n",
        "                anomaly_data_indices.append(data_idx)\n",
        "        df_subset = testData_trimmed[colNames[i]].iloc[anomaly_data_indices]\n",
        "        #fig, ax = plt.subplots(figsize=(15,3))\n",
        "        #ax.plot(testData_trimmed[colNames[i]])\n",
        "        if (len(df_subset)>0):#adds markers for anomalies, if any/ only anomalous features are plotted\n",
        "            fig, ax = plt.subplots(figsize=(15,3))\n",
        "            ax.plot(testData_trimmed[colNames[i]])\n",
        "            ax.plot(df_subset.index,df_subset, '+', color=\"r\")\n",
        "            plt.title(col)\n",
        "            plt.show()\n",
        "            \n",
        "def plot_anomaly1(subColPhrase, sub_anomaly_data, testData_trimmed):\n",
        "    #shows any anomaly markers on test data\n",
        "    subCol = testData_trimmed.filter(regex=subColPhrase).columns\n",
        "    for i, col in enumerate(subCol):\n",
        "        sub_anomaly_data_indices = []\n",
        "        for data_idx in range(len(testData_trimmed[subCol])):\n",
        "            if np.all(sub_anomaly_data[sub_anomaly_data.columns[i]][data_idx]):\n",
        "                sub_anomaly_data_indices.append(data_idx)\n",
        "        df_subset = testData_trimmed[col].iloc[sub_anomaly_data_indices]\n",
        "        if (len(df_subset)>0):#adds markers for anomalies, if any/ only anomalous features are plotted\n",
        "            fig, ax = plt.subplots(figsize=(15,3))\n",
        "            ax.plot(testData_trimmed[col])\n",
        "            ax.plot(df_subset.index,df_subset, '+', color=\"r\")\n",
        "            plt.title(col)\n",
        "            plt.show()\n",
        "\n",
        "def metricsRollUp(trainData_trimmed, trainData_pred, testData_trimmed, testData_pred, colNames, rollingOffset, subColPhrase, **kwargs):\n",
        "    #rolls up anomalies from individual features to systems \n",
        "    rs = kwargs.get('rs', None)\n",
        "    ss = kwargs.get('ss', None)\n",
        "    \n",
        "    if rs:\n",
        "        test_mae_loss, test_mae_loss_rolling, anomaly_data = anomalyFlaggingAttribution(trainData_trimmed, trainData_pred, testData_trimmed, testData_pred, colNames, rollingOffset, rs = rs)\n",
        "    if ss:\n",
        "        test_mae_loss, test_mae_loss_rolling, anomaly_data = anomalyFlaggingAttribution(trainData_trimmed, trainData_pred, testData_trimmed, testData_pred, colNames, rollingOffset, ss = ss)\n",
        "\n",
        "    subCol = anomaly_data.filter(regex=subColPhrase).columns#matching columns in anomaly data (has the mae loss suffix)\n",
        "    subCol1 = testData_trimmed.filter(regex=subColPhrase).columns#matching columns in test data\n",
        "    sub_anomaly_data = anomaly_data[subCol]\n",
        "    sub_anomaly_data['rolledUp'] = sub_anomaly_data.any(axis='columns')\n",
        "\n",
        "    anomIndex = sub_anomaly_data.index[sub_anomaly_data['rolledUp'] == True]#timestamps for anomaly in any feature\n",
        "    fig, ax = plt.subplots(figsize=(15,3))\n",
        "    testData_trimmed[subCol1[0]].plot(figsize=(15,3), color = 'w')#using a random column and suppressing the line, then adding vlines where anomalies occur\n",
        "    plt.title('Anomalies')\n",
        "    for i in anomIndex:\n",
        "        ax.axvline(i, alpha=0.3, color='red')\n",
        "    \n",
        "    plot_anomaly1(subColPhrase, sub_anomaly_data, testData_trimmed)\n",
        "            \n",
        "    return sub_anomaly_data"
      ],
      "execution_count": null,
      "outputs": []
    },
    {
      "cell_type": "markdown",
      "metadata": {
        "id": "_2Xbg5vK9v7j"
      },
      "source": [
        "## Data download from Kaggle dataset"
      ]
    },
    {
      "cell_type": "code",
      "metadata": {
        "id": "6RCMbDh595V_",
        "colab": {
          "resources": {
            "http://localhost:8080/nbextensions/google.colab/files.js": {
              "data": "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",
              "ok": true,
              "headers": [
                [
                  "content-type",
                  "application/javascript"
                ]
              ],
              "status": 200,
              "status_text": "OK"
            }
          },
          "base_uri": "https://localhost:8080/",
          "height": 885
        },
        "outputId": "fe4884cf-4ed0-4093-aa88-ece3d49eae51"
      },
      "source": [
        "# ! pip install -q kaggle\n",
        "from google.colab import files\n",
        "files.upload()\n",
        "! mkdir ~/.kaggle\n",
        "! cp kaggle.json ~/.kaggle/\n",
        "! chmod 600 ~/.kaggle/kaggle.json\n",
        "! kaggle datasets list -s kdd\n",
        "!kaggle datasets download -d galaxyh/kdd-cup-1999-data\n",
        "!unzip kdd-cup-1999-data.zip"
      ],
      "execution_count": null,
      "outputs": [
        {
          "output_type": "display_data",
          "data": {
            "text/html": [
              "\n",
              "     <input type=\"file\" id=\"files-414f872f-c1d0-4367-83c0-bf43c0ce9a40\" name=\"files[]\" multiple disabled\n",
              "        style=\"border:none\" />\n",
              "     <output id=\"result-414f872f-c1d0-4367-83c0-bf43c0ce9a40\">\n",
              "      Upload widget is only available when the cell has been executed in the\n",
              "      current browser session. Please rerun this cell to enable.\n",
              "      </output>\n",
              "      <script src=\"/nbextensions/google.colab/files.js\"></script> "
            ],
            "text/plain": [
              "<IPython.core.display.HTML object>"
            ]
          },
          "metadata": {
            "tags": []
          }
        },
        {
          "output_type": "stream",
          "text": [
            "Saving kaggle.json to kaggle.json\n",
            "Warning: Looks like you're using an outdated API Version, please consider updating (server 1.5.12 / client 1.5.4)\n",
            "ref                                                      title                                           size  lastUpdated          downloadCount  \n",
            "-------------------------------------------------------  ---------------------------------------------  -----  -------------------  -------------  \n",
            "hassan06/nslkdd                                          NSL-KDD                                         14MB  2019-04-25 06:13:16           3931  \n",
            "galaxyh/kdd-cup-1999-data                                KDD Cup 1999 Data                               88MB  2018-12-11 07:15:21           2254  \n",
            "slashtea/kdd-cyberattack                                 kdd cyberattack                                  2MB  2018-07-28 09:08:49            333  \n",
            "marklvl/sentiment-labelled-sentences-data-set            Sentiment Labelled Sentences Data Set          326KB  2018-04-24 21:20:20           8856  \n",
            "kiranmahesh/nslkdd                                       NSL-KDD                                          3MB  2020-03-16 17:46:39            669  \n",
            "mathurinache/mtakdd19                                    MTA-KDD-19                                      13MB  2021-03-13 21:15:57             32  \n",
            "ellipticco/elliptic-data-set                             Elliptic Data Set                              292MB  2019-07-31 11:26:42           3609  \n",
            "zakariabijoy/nslkdd-finaldata                            NSL-KDD_finaldata                              421KB  2019-06-25 18:10:47            162  \n",
            "asminalev/kdd-cup-2009-customer-relationship-prediction  KDD Cup 2009 Customer relationship prediction   16MB  2018-10-13 17:24:02            311  \n",
            "ericzs/kdd99feature-with-csv                             kdd-train                                        6MB  2019-04-22 10:12:18             31  \n",
            "zusmani/pakistansuicideattacks                           Pakistan Suicide Bombing Attacks                68KB  2017-12-01 15:03:19           3798  \n",
            "bmabhinav889/nslkdd                                      NSL-KDD                                          7MB  2020-10-24 21:10:06             18  \n",
            "maffei2443/kdd2020-cpr                                   kdd2020-cpr                                    564MB  2020-08-30 18:48:17             36  \n",
            "sajidhasanapon/twitter-connections-with-user-location    Twitter Connections with User Location           1GB  2019-02-13 19:19:13            185  \n",
            "impapan/forest-covertype-dataset                         Forest CoverType dataset                        11MB  2021-04-27 14:17:09            233  \n",
            "bharath5673/kddcup99                                     kddcup-99                                       36MB  2018-08-20 09:38:23            176  \n",
            "jswicker/the-smell-of-fear                               The Smell of Fear                               92MB  2018-04-24 03:54:45            725  \n",
            "gilbertorocha/kdd-cup-2009-curso-jones                   KDD Cup 2009 - Curso Jones                      16MB  2020-06-06 17:41:04             44  \n",
            "bharath5673/kddcup99data                                 kddcup-99-data                                  18MB  2018-08-20 09:57:13             79  \n",
            "zachyaldo/kdd-data                                       KDD Data                                        21MB  2018-12-02 18:25:56             84  \n",
            "Downloading kdd-cup-1999-data.zip to /content\n",
            " 98% 86.0M/87.8M [00:00<00:00, 85.9MB/s]\n",
            "100% 87.8M/87.8M [00:01<00:00, 90.5MB/s]\n",
            "Archive:  kdd-cup-1999-data.zip\n",
            "  inflating: corrected.gz            \n",
            "  inflating: corrected/corrected     \n",
            "  inflating: kddcup.data.corrected   \n",
            "  inflating: kddcup.data.gz          \n",
            "  inflating: kddcup.data/kddcup.data  \n",
            "  inflating: kddcup.data_10_percent.gz  \n",
            "  inflating: kddcup.data_10_percent/kddcup.data_10_percent  \n",
            "  inflating: kddcup.data_10_percent_corrected  \n",
            "  inflating: kddcup.names            \n",
            "  inflating: kddcup.newtestdata_10_percent_unlabeled.gz  \n",
            "  inflating: kddcup.newtestdata_10_percent_unlabeled/kddcup.newtestdata_10_percent_unlabeled  \n",
            "  inflating: kddcup.testdata.unlabeled.gz  \n",
            "  inflating: kddcup.testdata.unlabeled/kddcup.testdata.unlabeled  \n",
            "  inflating: kddcup.testdata.unlabeled_10_percent.gz  \n",
            "  inflating: kddcup.testdata.unlabeled_10_percent/kddcup.testdata.unlabeled_10_percent  \n",
            "  inflating: training_attack_types   \n",
            "  inflating: typo-correction.txt     \n"
          ],
          "name": "stdout"
        }
      ]
    },
    {
      "cell_type": "markdown",
      "metadata": {
        "id": "55_MUBjsz8nL"
      },
      "source": [
        "## Data pre-processing"
      ]
    },
    {
      "cell_type": "code",
      "metadata": {
        "colab": {
          "base_uri": "https://localhost:8080/"
        },
        "id": "KXI7YYqsvEfg",
        "outputId": "d0371a1b-96a0-465b-bf11-320d316fee62"
      },
      "source": [
        "#path = '/content/kdd/kddcup.data_10_percent_corrected'\n",
        "path = '/content/kddcup.data_10_percent_corrected'\n",
        "df = pd.read_csv(path, header=None)\n",
        "print(df.head())\n",
        "print('*'*50)\n",
        "print(df.shape)"
      ],
      "execution_count": null,
      "outputs": [
        {
          "output_type": "stream",
          "text": [
            "   0    1     2   3    4     5   6   ...    35   36   37   38   39   40       41\n",
            "0   0  tcp  http  SF  181  5450   0  ...  0.11  0.0  0.0  0.0  0.0  0.0  normal.\n",
            "1   0  tcp  http  SF  239   486   0  ...  0.05  0.0  0.0  0.0  0.0  0.0  normal.\n",
            "2   0  tcp  http  SF  235  1337   0  ...  0.03  0.0  0.0  0.0  0.0  0.0  normal.\n",
            "3   0  tcp  http  SF  219  1337   0  ...  0.03  0.0  0.0  0.0  0.0  0.0  normal.\n",
            "4   0  tcp  http  SF  217  2032   0  ...  0.02  0.0  0.0  0.0  0.0  0.0  normal.\n",
            "\n",
            "[5 rows x 42 columns]\n",
            "**************************************************\n",
            "(494021, 42)\n"
          ],
          "name": "stdout"
        }
      ]
    },
    {
      "cell_type": "code",
      "metadata": {
        "id": "4ueOruO3vd8l"
      },
      "source": [
        "# The CSV file has no column heads, so add them\n",
        "df.columns = [\n",
        "    'duration',\n",
        "    'protocol_type',\n",
        "    'service',\n",
        "    'flag',\n",
        "    'src_bytes',\n",
        "    'dst_bytes',\n",
        "    'land',\n",
        "    'wrong_fragment',\n",
        "    'urgent',\n",
        "    'hot',\n",
        "    'num_failed_logins',\n",
        "    'logged_in',\n",
        "    'num_compromised',\n",
        "    'root_shell',\n",
        "    'su_attempted',\n",
        "    'num_root',\n",
        "    'num_file_creations',\n",
        "    'num_shells',\n",
        "    'num_access_files',\n",
        "    'num_outbound_cmds',\n",
        "    'is_host_login',\n",
        "    'is_guest_login',\n",
        "    'count',\n",
        "    'srv_count',\n",
        "    'serror_rate',\n",
        "    'srv_serror_rate',\n",
        "    'rerror_rate',\n",
        "    'srv_rerror_rate',\n",
        "    'same_srv_rate',\n",
        "    'diff_srv_rate',\n",
        "    'srv_diff_host_rate',\n",
        "    'dst_host_count',\n",
        "    'dst_host_srv_count',\n",
        "    'dst_host_same_srv_rate',\n",
        "    'dst_host_diff_srv_rate',\n",
        "    'dst_host_same_src_port_rate',\n",
        "    'dst_host_srv_diff_host_rate',\n",
        "    'dst_host_serror_rate',\n",
        "    'dst_host_srv_serror_rate',\n",
        "    'dst_host_rerror_rate',\n",
        "    'dst_host_srv_rerror_rate',\n",
        "    'outcome'\n",
        "]"
      ],
      "execution_count": null,
      "outputs": []
    },
    {
      "cell_type": "code",
      "metadata": {
        "colab": {
          "base_uri": "https://localhost:8080/"
        },
        "id": "Qj8K2bjkwVvv",
        "outputId": "11830059-21bf-46a0-bf35-9a2e670cd347"
      },
      "source": [
        "print('kdd cup 1999 shape: ',df.shape)\n",
        "print('kdd cup 1999 outcome column value counts: ',)\n",
        "df['outcome'].value_counts()"
      ],
      "execution_count": null,
      "outputs": [
        {
          "output_type": "stream",
          "text": [
            "kdd cup 1999 shape:  (494021, 42)\n",
            "kdd cup 1999 outcome column value counts: \n"
          ],
          "name": "stdout"
        },
        {
          "output_type": "execute_result",
          "data": {
            "text/plain": [
              "smurf.              280790\n",
              "neptune.            107201\n",
              "normal.              97278\n",
              "back.                 2203\n",
              "satan.                1589\n",
              "ipsweep.              1247\n",
              "portsweep.            1040\n",
              "warezclient.          1020\n",
              "teardrop.              979\n",
              "pod.                   264\n",
              "nmap.                  231\n",
              "guess_passwd.           53\n",
              "buffer_overflow.        30\n",
              "land.                   21\n",
              "warezmaster.            20\n",
              "imap.                   12\n",
              "rootkit.                10\n",
              "loadmodule.              9\n",
              "ftp_write.               8\n",
              "multihop.                7\n",
              "phf.                     4\n",
              "perl.                    3\n",
              "spy.                     2\n",
              "Name: outcome, dtype: int64"
            ]
          },
          "metadata": {
            "tags": []
          },
          "execution_count": 6
        }
      ]
    },
    {
      "cell_type": "code",
      "metadata": {
        "id": "igsX7T9ywYIn",
        "colab": {
          "base_uri": "https://localhost:8080/"
        },
        "outputId": "00ca8deb-cc77-4b92-dd8a-2621eea19a9b"
      },
      "source": [
        "df_anomaly = df[df['outcome'].map(df['outcome'].value_counts()) < 1000]\n",
        "df_anomaly['anomaly'] = 'yes'\n",
        "df_normal = df[df['outcome'].isin(['normal.'])]\n",
        "df_normal['anomaly'] = 'no'\n",
        "df1 = pd.concat([df_normal,df_anomaly], axis='rows')\n",
        "df1.drop('outcome', axis = 'columns', inplace = True)\n",
        "print('shape of trimmed dataset that includes only \\'normal\\'')\n",
        "print('outcome and other outcomes with counts < 1,000')\n",
        "\n",
        "print(df1.shape)\n",
        "print('value counts with \\'normal\\' outcome set')\n",
        "print('as anomaly \\'no\\' and others as anomaly \\'yes\\'')\n",
        "print(df1['anomaly'].value_counts())"
      ],
      "execution_count": null,
      "outputs": [
        {
          "output_type": "stream",
          "text": [
            "shape of trimmed dataset that includes only 'normal'\n",
            "outcome and other outcomes with counts < 1,000\n",
            "(98931, 42)\n",
            "value counts with 'normal' outcome set\n",
            "as anomaly 'no' and others as anomaly 'yes'\n",
            "no     97278\n",
            "yes     1653\n",
            "Name: anomaly, dtype: int64\n"
          ],
          "name": "stdout"
        },
        {
          "output_type": "stream",
          "text": [
            "/usr/local/lib/python3.7/dist-packages/ipykernel_launcher.py:2: SettingWithCopyWarning: \n",
            "A value is trying to be set on a copy of a slice from a DataFrame.\n",
            "Try using .loc[row_indexer,col_indexer] = value instead\n",
            "\n",
            "See the caveats in the documentation: https://pandas.pydata.org/pandas-docs/stable/user_guide/indexing.html#returning-a-view-versus-a-copy\n",
            "  \n",
            "/usr/local/lib/python3.7/dist-packages/ipykernel_launcher.py:4: SettingWithCopyWarning: \n",
            "A value is trying to be set on a copy of a slice from a DataFrame.\n",
            "Try using .loc[row_indexer,col_indexer] = value instead\n",
            "\n",
            "See the caveats in the documentation: https://pandas.pydata.org/pandas-docs/stable/user_guide/indexing.html#returning-a-view-versus-a-copy\n",
            "  after removing the cwd from sys.path.\n"
          ],
          "name": "stderr"
        }
      ]
    },
    {
      "cell_type": "code",
      "metadata": {
        "id": "XaG7t7SkweFI",
        "colab": {
          "base_uri": "https://localhost:8080/"
        },
        "outputId": "b30d81c1-dfd2-41b6-9696-e11ea4e99926"
      },
      "source": [
        "df1.reset_index(inplace=True)\n",
        "numeric_cols = df1.select_dtypes(include=np.number).columns\n",
        "print(df1.drop(numeric_cols, axis='columns').columns)\n",
        "categorical_cols = ['protocol_type', 'service', 'flag']\n",
        "print(df1[categorical_cols].head())\n",
        "print(df1[numeric_cols].shape)\n",
        "print(df1.drop(numeric_cols, axis='columns').shape)"
      ],
      "execution_count": null,
      "outputs": [
        {
          "output_type": "stream",
          "text": [
            "Index(['protocol_type', 'service', 'flag', 'anomaly'], dtype='object')\n",
            "  protocol_type service flag\n",
            "0           tcp    http   SF\n",
            "1           tcp    http   SF\n",
            "2           tcp    http   SF\n",
            "3           tcp    http   SF\n",
            "4           tcp    http   SF\n",
            "(98931, 39)\n",
            "(98931, 4)\n"
          ],
          "name": "stdout"
        }
      ]
    },
    {
      "cell_type": "code",
      "metadata": {
        "id": "c2nukKfEB2ql",
        "colab": {
          "base_uri": "https://localhost:8080/"
        },
        "outputId": "b453653e-86f3-44de-d040-4a43fc4481e4"
      },
      "source": [
        "df1.columns"
      ],
      "execution_count": null,
      "outputs": [
        {
          "output_type": "execute_result",
          "data": {
            "text/plain": [
              "Index(['index', 'duration', 'protocol_type', 'service', 'flag', 'src_bytes',\n",
              "       'dst_bytes', 'land', 'wrong_fragment', 'urgent', 'hot',\n",
              "       'num_failed_logins', 'logged_in', 'num_compromised', 'root_shell',\n",
              "       'su_attempted', 'num_root', 'num_file_creations', 'num_shells',\n",
              "       'num_access_files', 'num_outbound_cmds', 'is_host_login',\n",
              "       'is_guest_login', 'count', 'srv_count', 'serror_rate',\n",
              "       'srv_serror_rate', 'rerror_rate', 'srv_rerror_rate', 'same_srv_rate',\n",
              "       'diff_srv_rate', 'srv_diff_host_rate', 'dst_host_count',\n",
              "       'dst_host_srv_count', 'dst_host_same_srv_rate',\n",
              "       'dst_host_diff_srv_rate', 'dst_host_same_src_port_rate',\n",
              "       'dst_host_srv_diff_host_rate', 'dst_host_serror_rate',\n",
              "       'dst_host_srv_serror_rate', 'dst_host_rerror_rate',\n",
              "       'dst_host_srv_rerror_rate', 'anomaly'],\n",
              "      dtype='object')"
            ]
          },
          "metadata": {
            "tags": []
          },
          "execution_count": 9
        }
      ]
    },
    {
      "cell_type": "code",
      "metadata": {
        "id": "oYFMoFAawmP4",
        "colab": {
          "base_uri": "https://localhost:8080/"
        },
        "outputId": "8239e3d8-77e5-4d2b-fc1b-bacc8c36174e"
      },
      "source": [
        "df1_dummies = pd.get_dummies(df1[categorical_cols])\n",
        "df1_std_scaled, ss = std_scaler(df1[numeric_cols])\n",
        "df1_std_scaled = pd.DataFrame(df1_std_scaled)\n",
        "df1_std_scaled.columns = df1[numeric_cols].columns\n",
        "print(df1_std_scaled.info())\n",
        "df2 = pd.concat([df1_std_scaled, df1_dummies, df1['anomaly']], axis='columns')\n",
        "del df2['index']\n",
        "print(df2.columns)\n",
        "print(df2.head())"
      ],
      "execution_count": null,
      "outputs": [
        {
          "output_type": "stream",
          "text": [
            "<class 'pandas.core.frame.DataFrame'>\n",
            "RangeIndex: 98931 entries, 0 to 98930\n",
            "Data columns (total 39 columns):\n",
            " #   Column                       Non-Null Count  Dtype  \n",
            "---  ------                       --------------  -----  \n",
            " 0   index                        98931 non-null  float64\n",
            " 1   duration                     98931 non-null  float64\n",
            " 2   src_bytes                    98931 non-null  float64\n",
            " 3   dst_bytes                    98931 non-null  float64\n",
            " 4   land                         98931 non-null  float64\n",
            " 5   wrong_fragment               98931 non-null  float64\n",
            " 6   urgent                       98931 non-null  float64\n",
            " 7   hot                          98931 non-null  float64\n",
            " 8   num_failed_logins            98931 non-null  float64\n",
            " 9   logged_in                    98931 non-null  float64\n",
            " 10  num_compromised              98931 non-null  float64\n",
            " 11  root_shell                   98931 non-null  float64\n",
            " 12  su_attempted                 98931 non-null  float64\n",
            " 13  num_root                     98931 non-null  float64\n",
            " 14  num_file_creations           98931 non-null  float64\n",
            " 15  num_shells                   98931 non-null  float64\n",
            " 16  num_access_files             98931 non-null  float64\n",
            " 17  num_outbound_cmds            98931 non-null  float64\n",
            " 18  is_host_login                98931 non-null  float64\n",
            " 19  is_guest_login               98931 non-null  float64\n",
            " 20  count                        98931 non-null  float64\n",
            " 21  srv_count                    98931 non-null  float64\n",
            " 22  serror_rate                  98931 non-null  float64\n",
            " 23  srv_serror_rate              98931 non-null  float64\n",
            " 24  rerror_rate                  98931 non-null  float64\n",
            " 25  srv_rerror_rate              98931 non-null  float64\n",
            " 26  same_srv_rate                98931 non-null  float64\n",
            " 27  diff_srv_rate                98931 non-null  float64\n",
            " 28  srv_diff_host_rate           98931 non-null  float64\n",
            " 29  dst_host_count               98931 non-null  float64\n",
            " 30  dst_host_srv_count           98931 non-null  float64\n",
            " 31  dst_host_same_srv_rate       98931 non-null  float64\n",
            " 32  dst_host_diff_srv_rate       98931 non-null  float64\n",
            " 33  dst_host_same_src_port_rate  98931 non-null  float64\n",
            " 34  dst_host_srv_diff_host_rate  98931 non-null  float64\n",
            " 35  dst_host_serror_rate         98931 non-null  float64\n",
            " 36  dst_host_srv_serror_rate     98931 non-null  float64\n",
            " 37  dst_host_rerror_rate         98931 non-null  float64\n",
            " 38  dst_host_srv_rerror_rate     98931 non-null  float64\n",
            "dtypes: float64(39)\n",
            "memory usage: 29.4 MB\n",
            "None\n",
            "Index(['duration', 'src_bytes', 'dst_bytes', 'land', 'wrong_fragment',\n",
            "       'urgent', 'hot', 'num_failed_logins', 'logged_in', 'num_compromised',\n",
            "       'root_shell', 'su_attempted', 'num_root', 'num_file_creations',\n",
            "       'num_shells', 'num_access_files', 'num_outbound_cmds', 'is_host_login',\n",
            "       'is_guest_login', 'count', 'srv_count', 'serror_rate',\n",
            "       'srv_serror_rate', 'rerror_rate', 'srv_rerror_rate', 'same_srv_rate',\n",
            "       'diff_srv_rate', 'srv_diff_host_rate', 'dst_host_count',\n",
            "       'dst_host_srv_count', 'dst_host_same_srv_rate',\n",
            "       'dst_host_diff_srv_rate', 'dst_host_same_src_port_rate',\n",
            "       'dst_host_srv_diff_host_rate', 'dst_host_serror_rate',\n",
            "       'dst_host_srv_serror_rate', 'dst_host_rerror_rate',\n",
            "       'dst_host_srv_rerror_rate', 'protocol_type_icmp', 'protocol_type_tcp',\n",
            "       'protocol_type_udp', 'service_IRC', 'service_X11', 'service_auth',\n",
            "       'service_ctf', 'service_domain', 'service_domain_u', 'service_eco_i',\n",
            "       'service_ecr_i', 'service_finger', 'service_ftp', 'service_ftp_data',\n",
            "       'service_http', 'service_imap4', 'service_login', 'service_nntp',\n",
            "       'service_ntp_u', 'service_other', 'service_pop_3', 'service_private',\n",
            "       'service_red_i', 'service_shell', 'service_smtp', 'service_ssh',\n",
            "       'service_telnet', 'service_tftp_u', 'service_tim_i', 'service_time',\n",
            "       'service_urh_i', 'service_urp_i', 'flag_OTH', 'flag_REJ', 'flag_RSTO',\n",
            "       'flag_RSTR', 'flag_S0', 'flag_S1', 'flag_S2', 'flag_S3', 'flag_SF',\n",
            "       'flag_SH', 'anomaly'],\n",
            "      dtype='object')\n",
            "   duration  src_bytes  dst_bytes      land  ...  flag_S3  flag_SF  flag_SH  anomaly\n",
            "0 -0.158081  -0.028333   0.017681 -0.014914  ...        0        1        0       no\n",
            "1 -0.158081  -0.026624  -0.049645 -0.014914  ...        0        1        0       no\n",
            "2 -0.158081  -0.026742  -0.038103 -0.014914  ...        0        1        0       no\n",
            "3 -0.158081  -0.027214  -0.038103 -0.014914  ...        0        1        0       no\n",
            "4 -0.158081  -0.027272  -0.028676 -0.014914  ...        0        1        0       no\n",
            "\n",
            "[5 rows x 81 columns]\n"
          ],
          "name": "stdout"
        }
      ]
    },
    {
      "cell_type": "code",
      "metadata": {
        "colab": {
          "base_uri": "https://localhost:8080/"
        },
        "id": "ZObLNzCo03Uz",
        "outputId": "26963d4e-e2ea-42dd-e18c-f92d9d98810d"
      },
      "source": [
        "#splitting train and test data\n",
        "#print(df2.shape)\n",
        "df3 = df2[df2['anomaly'] == 'no']\n",
        "#print(df3.shape)\n",
        "\n",
        "df3_train, df3_test = train_test_split(df3, test_size=0.05)\n",
        "df3_train = df3_train.reset_index(drop=True)\n",
        "print('shape of train data with only \\'normal\\' records')\n",
        "del df3_train['anomaly']\n",
        "print(df3_train.shape)\n",
        "\n",
        "\n",
        "\n",
        "df3_test = pd.concat([df3_test, df2[df2['anomaly'] == 'yes']])\n",
        "df3_test = df3_test.reset_index(drop=True)\n",
        "y1 = df3_test['anomaly']\n",
        "print('counts and shape of test data with mixed anomaly yes and no records')\n",
        "print(df3_test['anomaly'].value_counts())\n",
        "del df3_test['anomaly']\n",
        "print(df3_test.shape)\n"
      ],
      "execution_count": null,
      "outputs": [
        {
          "output_type": "stream",
          "text": [
            "shape of train data with only 'normal' records\n",
            "(92414, 80)\n",
            "counts and shape of test data with mixed anomaly yes and no records\n",
            "no     4864\n",
            "yes    1653\n",
            "Name: anomaly, dtype: int64\n",
            "(6517, 80)\n"
          ],
          "name": "stdout"
        }
      ]
    },
    {
      "cell_type": "code",
      "metadata": {
        "id": "XUKPv4RaWV23",
        "colab": {
          "base_uri": "https://localhost:8080/"
        },
        "outputId": "7c9e2632-891c-41a6-d501-6a46e81fe02e"
      },
      "source": [
        "colNames = df3_train.columns\n",
        "colNames"
      ],
      "execution_count": null,
      "outputs": [
        {
          "output_type": "execute_result",
          "data": {
            "text/plain": [
              "Index(['duration', 'src_bytes', 'dst_bytes', 'land', 'wrong_fragment',\n",
              "       'urgent', 'hot', 'num_failed_logins', 'logged_in', 'num_compromised',\n",
              "       'root_shell', 'su_attempted', 'num_root', 'num_file_creations',\n",
              "       'num_shells', 'num_access_files', 'num_outbound_cmds', 'is_host_login',\n",
              "       'is_guest_login', 'count', 'srv_count', 'serror_rate',\n",
              "       'srv_serror_rate', 'rerror_rate', 'srv_rerror_rate', 'same_srv_rate',\n",
              "       'diff_srv_rate', 'srv_diff_host_rate', 'dst_host_count',\n",
              "       'dst_host_srv_count', 'dst_host_same_srv_rate',\n",
              "       'dst_host_diff_srv_rate', 'dst_host_same_src_port_rate',\n",
              "       'dst_host_srv_diff_host_rate', 'dst_host_serror_rate',\n",
              "       'dst_host_srv_serror_rate', 'dst_host_rerror_rate',\n",
              "       'dst_host_srv_rerror_rate', 'protocol_type_icmp', 'protocol_type_tcp',\n",
              "       'protocol_type_udp', 'service_IRC', 'service_X11', 'service_auth',\n",
              "       'service_ctf', 'service_domain', 'service_domain_u', 'service_eco_i',\n",
              "       'service_ecr_i', 'service_finger', 'service_ftp', 'service_ftp_data',\n",
              "       'service_http', 'service_imap4', 'service_login', 'service_nntp',\n",
              "       'service_ntp_u', 'service_other', 'service_pop_3', 'service_private',\n",
              "       'service_red_i', 'service_shell', 'service_smtp', 'service_ssh',\n",
              "       'service_telnet', 'service_tftp_u', 'service_tim_i', 'service_time',\n",
              "       'service_urh_i', 'service_urp_i', 'flag_OTH', 'flag_REJ', 'flag_RSTO',\n",
              "       'flag_RSTR', 'flag_S0', 'flag_S1', 'flag_S2', 'flag_S3', 'flag_SF',\n",
              "       'flag_SH'],\n",
              "      dtype='object')"
            ]
          },
          "metadata": {
            "tags": []
          },
          "execution_count": 12
        }
      ]
    },
    {
      "cell_type": "markdown",
      "metadata": {
        "id": "aGiZzCL7HS31"
      },
      "source": [
        "## Model training"
      ]
    },
    {
      "cell_type": "code",
      "metadata": {
        "colab": {
          "base_uri": "https://localhost:8080/"
        },
        "id": "PTUVoCRrwqCU",
        "outputId": "c9f2a2c6-5722-4188-da69-93fbb5a4c3b3"
      },
      "source": [
        "\n",
        "scaler = 'StandardScaler'\n",
        "numVariables = df3_train.shape[1]\n",
        "print(numVariables)\n",
        "\n",
        "model = tcnn_model(df3_train, numVariables)\n",
        "\n",
        "currentDateTime = datetime.datetime.now().strftime(\"%Y-%m-%d %H:%M:%S\")\n",
        "\n",
        "mname = f\"perfMon_model_{scaler}_Multivariate_{currentDateTime}.h5\"\n",
        "print(mname)\n",
        "model.save(mname)"
      ],
      "execution_count": null,
      "outputs": [
        {
          "output_type": "stream",
          "text": [
            "80\n",
            "WARNING:tensorflow:Please add `keras.layers.InputLayer` instead of `keras.Input` to Sequential model. `keras.Input` is intended to be used by Functional model.\n",
            "Epoch 1/50\n",
            "650/650 [==============================] - 55s 82ms/step - loss: 0.3236 - val_loss: 0.2052\n",
            "Epoch 2/50\n",
            "650/650 [==============================] - 51s 79ms/step - loss: 0.2653 - val_loss: 0.2023\n",
            "Epoch 3/50\n",
            "650/650 [==============================] - 51s 78ms/step - loss: 0.2543 - val_loss: 0.1953\n",
            "Epoch 4/50\n",
            "650/650 [==============================] - 51s 79ms/step - loss: 0.2467 - val_loss: 0.1883\n",
            "Epoch 5/50\n",
            "650/650 [==============================] - 51s 78ms/step - loss: 0.2383 - val_loss: 0.1842\n",
            "Epoch 6/50\n",
            "650/650 [==============================] - 51s 79ms/step - loss: 0.2331 - val_loss: 0.1807\n",
            "Epoch 7/50\n",
            "650/650 [==============================] - 52s 80ms/step - loss: 0.2296 - val_loss: 0.1790\n",
            "Epoch 8/50\n",
            "650/650 [==============================] - 51s 79ms/step - loss: 0.2271 - val_loss: 0.1763\n",
            "Epoch 9/50\n",
            "650/650 [==============================] - 51s 79ms/step - loss: 0.2220 - val_loss: 0.1666\n",
            "Epoch 10/50\n",
            "650/650 [==============================] - 51s 79ms/step - loss: 0.2161 - val_loss: 0.1612\n",
            "Epoch 11/50\n",
            "650/650 [==============================] - 52s 81ms/step - loss: 0.2093 - val_loss: 0.1619\n",
            "Epoch 12/50\n",
            "650/650 [==============================] - 52s 79ms/step - loss: 0.2074 - val_loss: 0.1616\n",
            "Epoch 13/50\n",
            "650/650 [==============================] - 53s 81ms/step - loss: 0.2041 - val_loss: 0.1607\n",
            "Epoch 14/50\n",
            "650/650 [==============================] - 51s 78ms/step - loss: 0.2011 - val_loss: 0.1604\n",
            "Epoch 15/50\n",
            "650/650 [==============================] - 51s 78ms/step - loss: 0.2019 - val_loss: 0.1608\n",
            "Epoch 16/50\n",
            "650/650 [==============================] - 51s 78ms/step - loss: 0.1979 - val_loss: 0.1596\n",
            "Epoch 17/50\n",
            "650/650 [==============================] - 52s 80ms/step - loss: 0.1969 - val_loss: 0.1589\n",
            "Epoch 18/50\n",
            "650/650 [==============================] - 52s 80ms/step - loss: 0.1958 - val_loss: 0.1574\n",
            "Epoch 19/50\n",
            "650/650 [==============================] - 52s 80ms/step - loss: 0.1944 - val_loss: 0.1578\n",
            "Epoch 20/50\n",
            "650/650 [==============================] - 52s 80ms/step - loss: 0.1970 - val_loss: 0.1573\n",
            "Epoch 21/50\n",
            "650/650 [==============================] - 52s 80ms/step - loss: 0.1938 - val_loss: 0.1565\n",
            "Epoch 22/50\n",
            "650/650 [==============================] - 52s 80ms/step - loss: 0.1938 - val_loss: 0.1559\n",
            "Epoch 23/50\n",
            "650/650 [==============================] - 52s 80ms/step - loss: 0.1923 - val_loss: 0.1562\n",
            "Epoch 24/50\n",
            "650/650 [==============================] - 52s 79ms/step - loss: 0.1911 - val_loss: 0.1575\n",
            "Epoch 25/50\n",
            "650/650 [==============================] - 52s 80ms/step - loss: 0.1912 - val_loss: 0.1559\n",
            "Epoch 26/50\n",
            "650/650 [==============================] - 52s 80ms/step - loss: 0.1918 - val_loss: 0.1555\n",
            "Epoch 27/50\n",
            "650/650 [==============================] - 52s 80ms/step - loss: 0.1908 - val_loss: 0.1562\n",
            "Epoch 28/50\n",
            "650/650 [==============================] - 52s 80ms/step - loss: 0.1912 - val_loss: 0.1543\n",
            "Epoch 29/50\n",
            "650/650 [==============================] - 52s 80ms/step - loss: 0.1889 - val_loss: 0.1548\n",
            "Epoch 30/50\n",
            "650/650 [==============================] - 52s 80ms/step - loss: 0.1881 - val_loss: 0.1537\n",
            "Epoch 31/50\n",
            "650/650 [==============================] - 52s 80ms/step - loss: 0.1893 - val_loss: 0.1546\n",
            "Epoch 32/50\n",
            "650/650 [==============================] - 52s 80ms/step - loss: 0.1864 - val_loss: 0.1535\n",
            "Epoch 33/50\n",
            "650/650 [==============================] - 52s 80ms/step - loss: 0.1889 - val_loss: 0.1536\n",
            "Epoch 34/50\n",
            "650/650 [==============================] - 52s 80ms/step - loss: 0.1868 - val_loss: 0.1538\n",
            "Epoch 35/50\n",
            "650/650 [==============================] - 52s 80ms/step - loss: 0.1886 - val_loss: 0.1532\n",
            "Epoch 36/50\n",
            "650/650 [==============================] - 52s 80ms/step - loss: 0.1870 - val_loss: 0.1543\n",
            "Epoch 37/50\n",
            "650/650 [==============================] - 52s 80ms/step - loss: 0.1843 - val_loss: 0.1546\n",
            "Epoch 38/50\n",
            "650/650 [==============================] - 52s 80ms/step - loss: 0.1871 - val_loss: 0.1531\n",
            "Epoch 39/50\n",
            "650/650 [==============================] - 52s 80ms/step - loss: 0.1881 - val_loss: 0.1541\n",
            "Epoch 40/50\n",
            "650/650 [==============================] - 52s 80ms/step - loss: 0.1855 - val_loss: 0.1541\n",
            "Epoch 41/50\n",
            "650/650 [==============================] - 52s 80ms/step - loss: 0.1846 - val_loss: 0.1530\n",
            "Epoch 42/50\n",
            "650/650 [==============================] - 52s 80ms/step - loss: 0.1843 - val_loss: 0.1531\n",
            "Epoch 43/50\n",
            "650/650 [==============================] - 52s 81ms/step - loss: 0.1865 - val_loss: 0.1534\n",
            "Epoch 44/50\n",
            "650/650 [==============================] - 52s 80ms/step - loss: 0.1860 - val_loss: 0.1532\n",
            "Epoch 45/50\n",
            "650/650 [==============================] - 52s 80ms/step - loss: 0.1841 - val_loss: 0.1528\n",
            "Epoch 46/50\n",
            "650/650 [==============================] - 52s 80ms/step - loss: 0.1849 - val_loss: 0.1520\n",
            "Epoch 47/50\n",
            "650/650 [==============================] - 51s 78ms/step - loss: 0.1840 - val_loss: 0.1517\n",
            "Epoch 48/50\n",
            "650/650 [==============================] - 52s 81ms/step - loss: 0.1839 - val_loss: 0.1521\n",
            "Epoch 49/50\n",
            "650/650 [==============================] - 53s 81ms/step - loss: 0.1844 - val_loss: 0.1516\n",
            "Epoch 50/50\n",
            "650/650 [==============================] - 52s 81ms/step - loss: 0.1824 - val_loss: 0.1509\n",
            "perfMon_model_StandardScaler_Multivariate_2021-06-05 08:37:37.h5\n"
          ],
          "name": "stdout"
        }
      ]
    },
    {
      "cell_type": "code",
      "metadata": {
        "colab": {
          "base_uri": "https://localhost:8080/"
        },
        "id": "Vjp0w5K7yWv8",
        "outputId": "a656a01b-d2b7-4b6a-f533-6626c578f681"
      },
      "source": [
        "#mname = 'perfMon_model_StandardScaler_Multivariate_2021-02-03 04:10:39.h5'\n",
        "#mname = '/content/perfMon_model_StandardScaler_Multivariate_2021-02-03 04:10:39.h5'\n",
        "#model = keras.models.load_model(mname)\n",
        "model.summary()"
      ],
      "execution_count": null,
      "outputs": [
        {
          "output_type": "stream",
          "text": [
            "Model: \"sequential\"\n",
            "_________________________________________________________________\n",
            "Layer (type)                 Output Shape              Param #   \n",
            "=================================================================\n",
            "conv1d (Conv1D)              (None, 24, 64)            30784     \n",
            "_________________________________________________________________\n",
            "dropout (Dropout)            (None, 24, 64)            0         \n",
            "_________________________________________________________________\n",
            "conv1d_1 (Conv1D)            (None, 12, 32)            12320     \n",
            "_________________________________________________________________\n",
            "dropout_1 (Dropout)          (None, 12, 32)            0         \n",
            "_________________________________________________________________\n",
            "conv1d_2 (Conv1D)            (None, 6, 16)             3088      \n",
            "_________________________________________________________________\n",
            "conv1d_transpose (Conv1DTran (None, 12, 16)            1552      \n",
            "_________________________________________________________________\n",
            "dropout_2 (Dropout)          (None, 12, 16)            0         \n",
            "_________________________________________________________________\n",
            "conv1d_transpose_1 (Conv1DTr (None, 24, 32)            3104      \n",
            "_________________________________________________________________\n",
            "dropout_3 (Dropout)          (None, 24, 32)            0         \n",
            "_________________________________________________________________\n",
            "conv1d_transpose_2 (Conv1DTr (None, 48, 64)            12352     \n",
            "_________________________________________________________________\n",
            "conv1d_transpose_3 (Conv1DTr (None, 48, 80)            30800     \n",
            "=================================================================\n",
            "Total params: 94,000\n",
            "Trainable params: 94,000\n",
            "Non-trainable params: 0\n",
            "_________________________________________________________________\n"
          ],
          "name": "stdout"
        }
      ]
    },
    {
      "cell_type": "markdown",
      "metadata": {
        "id": "NaBaZdVGH2rx"
      },
      "source": [
        "## Model evaluation"
      ]
    },
    {
      "cell_type": "code",
      "metadata": {
        "id": "g8MADQo-_4jm"
      },
      "source": [
        "#preparing test data, making predictions, post processing\n",
        "x_test = create_sequences(df3_test)\n",
        "x_test_pred = model.predict(x_test)\n",
        "x_test_pred_flat = pd.DataFrame(reverse_sequences((x_test_pred)))\n",
        "df3_test_trimmed = df3_test[0:len(x_test_pred_flat)]\n",
        "y = y1[0:len(x_test_pred_flat)]"
      ],
      "execution_count": null,
      "outputs": []
    },
    {
      "cell_type": "code",
      "metadata": {
        "id": "iX3-RYaET4wu"
      },
      "source": [
        "#calculating reconstruction error/ loss\n",
        "test_mae_loss = np.abs(df3_test_trimmed - x_test_pred_flat.values)\n",
        "test_mae_loss = pd.DataFrame(test_mae_loss)\n",
        "test_mae_loss.columns = colNames\n",
        "test_mae_loss = test_mae_loss.add_suffix('_mae_loss')\n",
        "test_mae_loss_sum = np.sum(test_mae_loss,axis=1)\n",
        "test_mae_loss = pd.concat([pd.DataFrame(test_mae_loss), (pd.DataFrame(test_mae_loss_sum,columns=['Sum_mae_loss']))], axis='columns')"
      ],
      "execution_count": null,
      "outputs": []
    },
    {
      "cell_type": "code",
      "metadata": {
        "id": "DNflzd9dEQQa"
      },
      "source": [
        "#tuning reconstruction error threshold\n",
        "resultsDF = pd.DataFrame()\n",
        "for i in (np.linspace(.50,1,50,endpoint=False)):\n",
        "  threshold = np.quantile(test_mae_loss, i, axis=0)\n",
        "  test_mae_loss_rolling = test_mae_loss.rolling(rollingOffset).mean()\n",
        "  anomaly_data = pd.DataFrame(test_mae_loss_rolling > threshold)\n",
        "  y_pred = anomaly_data['Sum_mae_loss'].map({False:'no', True:'yes'})\n",
        "  precision, recall, fscore, support = score(y, y_pred, labels = ['no', 'yes'])\n",
        "  results1 = pd.concat((pd.Series(['no', 'yes']), pd.Series(precision), pd.Series(recall), pd.Series(fscore), pd.Series(support)), axis=1, join = 'outer')\n",
        "  results1 = pd.concat([results1, pd.Series([i,i])], axis='columns')\n",
        "  results1.columns=('anomaly','precision', 'recall', 'fscore', 'support','threshold')\n",
        "  resultsDF = pd.concat([resultsDF,results1],axis='rows')"
      ],
      "execution_count": null,
      "outputs": []
    },
    {
      "cell_type": "code",
      "metadata": {
        "colab": {
          "base_uri": "https://localhost:8080/"
        },
        "id": "ldyMqF9AJI51",
        "outputId": "f494f8f7-47bc-40a5-ff15-6676395c4083"
      },
      "source": [
        "print('precision: ', resultsDF.precision.max())\n",
        "print('recall: ', resultsDF.fscore.max())\n",
        "print('fscore: ', resultsDF.fscore.max())"
      ],
      "execution_count": null,
      "outputs": [
        {
          "output_type": "stream",
          "text": [
            "precision:  1.0\n",
            "recall:  0.9986654347602916\n",
            "fscore:  0.9986654347602916\n"
          ],
          "name": "stdout"
        }
      ]
    },
    {
      "cell_type": "code",
      "metadata": {
        "colab": {
          "base_uri": "https://localhost:8080/",
          "height": 551
        },
        "id": "2m0M_9PGEZ3C",
        "outputId": "19cc2053-9333-43d5-d95c-897be24ea6f0"
      },
      "source": [
        "sns.set(rc={'figure.figsize':(11.7,8.27)})\n",
        "sns.lineplot(data=resultsDF, x=\"threshold\", y=\"precision\", hue=\"anomaly\").set_title('precision, threshold tuning')"
      ],
      "execution_count": null,
      "outputs": [
        {
          "output_type": "execute_result",
          "data": {
            "text/plain": [
              "Text(0.5, 1.0, 'precision, threshold tuning')"
            ]
          },
          "metadata": {
            "tags": []
          },
          "execution_count": 24
        },
        {
          "output_type": "display_data",
          "data": {
            "image/png": "[encoded data removed]",
            "text/plain": [
              "<Figure size 842.4x595.44 with 1 Axes>"
            ]
          },
          "metadata": {
            "tags": []
          }
        }
      ]
    },
    {
      "cell_type": "code",
      "metadata": {
        "colab": {
          "base_uri": "https://localhost:8080/",
          "height": 551
        },
        "id": "olSU5_i3E4h0",
        "outputId": "9f79b7f3-dad6-4ace-d0c2-cf21cbc4319b"
      },
      "source": [
        "sns.lineplot(data=resultsDF, x=\"threshold\", y=\"recall\", hue=\"anomaly\").set_title('recall, threshold tuning')"
      ],
      "execution_count": null,
      "outputs": [
        {
          "output_type": "execute_result",
          "data": {
            "text/plain": [
              "Text(0.5, 1.0, 'recall, threshold tuning')"
            ]
          },
          "metadata": {
            "tags": []
          },
          "execution_count": 25
        },
        {
          "output_type": "display_data",
          "data": {
            "image/png": "[encoded data removed]",
            "text/plain": [
              "<Figure size 842.4x595.44 with 1 Axes>"
            ]
          },
          "metadata": {
            "tags": []
          }
        }
      ]
    },
    {
      "cell_type": "code",
      "metadata": {
        "colab": {
          "base_uri": "https://localhost:8080/",
          "height": 551
        },
        "id": "YVoJO3wfE5H_",
        "outputId": "39358352-4062-48ef-d871-0c2dea1efe15"
      },
      "source": [
        "sns.lineplot(data=resultsDF, x=\"threshold\", y=\"fscore\", hue=\"anomaly\").set_title('fscore, threshold tuning')"
      ],
      "execution_count": null,
      "outputs": [
        {
          "output_type": "execute_result",
          "data": {
            "text/plain": [
              "Text(0.5, 1.0, 'fscore, threshold tuning')"
            ]
          },
          "metadata": {
            "tags": []
          },
          "execution_count": 26
        },
        {
          "output_type": "display_data",
          "data": {
            "image/png": "[encoded data removed]",
            "text/plain": [
              "<Figure size 842.4x595.44 with 1 Axes>"
            ]
          },
          "metadata": {
            "tags": []
          }
        }
      ]
    }
  ]
}